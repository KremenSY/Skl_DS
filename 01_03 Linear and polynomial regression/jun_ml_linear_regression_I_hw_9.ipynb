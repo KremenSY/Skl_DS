{
 "cells": [
  {
   "cell_type": "markdown",
   "metadata": {
    "id": "9zmQCpvzzeTK"
   },
   "source": [
    "### Урок 9. Домашняя работа\n",
    "\n",
    "Даны точки $x$ и значения в этих точках $y$. Нормализуйте $y$ с помощью *z-score* и постройте график зависимости нормализованных значений от $x$. Для графика используйте `.scatter(x,y_tansformed)`"
   ]
  },
  {
   "cell_type": "code",
   "execution_count": 72,
   "metadata": {
    "id": "O8W9tZnFzeTL",
    "outputId": "cb5296ad-1cb3-4925-961c-149132c1bdf3"
   },
   "outputs": [
    {
     "data": {
      "image/png": "[encoded data removed]",
      "text/plain": [
       "<Figure size 432x288 with 1 Axes>"
      ]
     },
     "metadata": {
      "needs_background": "light"
     },
     "output_type": "display_data"
    }
   ],
   "source": [
    "import numpy as np\n",
    "from sklearn.linear_model import LinearRegression\n",
    "from matplotlib import pyplot as plt\n",
    "import pandas as pd\n",
    "x = np.linspace(1,10,num=10).reshape(-1,1)\n",
    "y = np.array(\n",
    "    [1.,  3.,  4.,  2., 10.,  5.,  5.,  2.,  5., 10.],\n",
    "    dtype=np.float32\n",
    ")\n",
    "plt.scatter(x, y)\n",
    "plt.show()"
   ]
  },
  {
   "cell_type": "code",
   "execution_count": 73,
   "metadata": {},
   "outputs": [
    {
     "name": "stdout",
     "output_type": "stream",
     "text": [
      "6.409696969696969\n"
     ]
    }
   ],
   "source": [
    "import numpy as np\n",
    "from sklearn.linear_model import LinearRegression\n",
    "from sklearn.metrics import r2_score, mean_squared_error\n",
    "reg = LinearRegression().fit(x, y)\n",
    "y_pred = reg.predict(x)\n",
    "print(mean_squared_error(y, y_pred))"
   ]
  },
  {
   "cell_type": "code",
   "execution_count": 74,
   "metadata": {},
   "outputs": [
    {
     "data": {
      "image/png": "[encoded data removed]",
      "text/plain": [
       "<Figure size 432x288 with 1 Axes>"
      ]
     },
     "metadata": {
      "needs_background": "light"
     },
     "output_type": "display_data"
    }
   ],
   "source": [
    "y_transformed=np.sqrt(y) # data preprocessing, to deal with large modulo values that are outliers\n",
    "plt.scatter(x, y_transformed)\n",
    "plt.show()"
   ]
  },
  {
   "cell_type": "code",
   "execution_count": 75,
   "metadata": {},
   "outputs": [
    {
     "name": "stdout",
     "output_type": "stream",
     "text": [
      "0.3178165822763455\n"
     ]
    }
   ],
   "source": [
    "reg = LinearRegression().fit(x, y_transformed)\n",
    "y_pred = reg.predict(x)\n",
    "print(mean_squared_error(y_transformed, y_pred))"
   ]
  },
  {
   "cell_type": "code",
   "execution_count": 76,
   "metadata": {},
   "outputs": [
    {
     "data": {
      "image/png": "[encoded data removed]",
      "text/plain": [
       "<Figure size 432x288 with 1 Axes>"
      ]
     },
     "metadata": {
      "needs_background": "light"
     },
     "output_type": "display_data"
    }
   ],
   "source": [
    "y_transformed=np.log(y) # data preprocessing, to deal with large modulo values that are outliers\n",
    "plt.scatter(x, y_transformed)\n",
    "plt.show()"
   ]
  },
  {
   "cell_type": "code",
   "execution_count": 77,
   "metadata": {},
   "outputs": [
    {
     "name": "stdout",
     "output_type": "stream",
     "text": [
      "0.3175270756011609\n"
     ]
    }
   ],
   "source": [
    "reg = LinearRegression().fit(x, y_transformed)\n",
    "y_pred = reg.predict(x)\n",
    "print(mean_squared_error(y_transformed, y_pred))"
   ]
  },
  {
   "cell_type": "code",
   "execution_count": 78,
   "metadata": {},
   "outputs": [
    {
     "name": "stdout",
     "output_type": "stream",
     "text": [
      "Raw dataset: [ 1.  3.  4.  2. 10.  5.  5.  2.  5. 10.]\n",
      "z-transformed dataset: [-1.2465616  -0.57274455 -0.23583598 -0.9096531   1.7856153   0.10107257\n",
      "  0.10107257 -0.9096531   0.10107257  1.7856153 ]\n"
     ]
    }
   ],
   "source": [
    "# Standard Scaling (Z-score normalization)\n",
    "from sklearn.preprocessing import StandardScaler\n",
    "print(f\"Raw dataset: {y}\")\n",
    "transformed_y=StandardScaler().fit_transform(y.reshape(-1,1)).reshape(-1)\n",
    "print(f\"z-transformed dataset: {transformed_y}\")"
   ]
  },
  {
   "cell_type": "code",
   "execution_count": 79,
   "metadata": {},
   "outputs": [
    {
     "data": {
      "image/png": "[encoded data removed]",
      "text/plain": [
       "<Figure size 432x288 with 1 Axes>"
      ]
     },
     "metadata": {
      "needs_background": "light"
     },
     "output_type": "display_data"
    }
   ],
   "source": [
    "plt.scatter(x, transformed_y)\n",
    "plt.show()"
   ]
  },
  {
   "cell_type": "code",
   "execution_count": 80,
   "metadata": {},
   "outputs": [
    {
     "name": "stdout",
     "output_type": "stream",
     "text": [
      "Raw dataset: [ 1.  3.  4.  2. 10.  5.  5.  2.  5. 10.]\n",
      "z-transformed dataset: [0.         0.22222224 0.33333334 0.11111111 1.         0.44444448\n",
      " 0.44444448 0.11111111 0.44444448 1.        ]\n"
     ]
    }
   ],
   "source": [
    "# min-max normalization\n",
    "from sklearn.preprocessing import MinMaxScaler\n",
    "print(f\"Raw dataset: {y}\")\n",
    "transformed_y=MinMaxScaler().fit_transform(y.reshape(-1,1)).reshape(-1)\n",
    "print(f\"z-transformed dataset: {transformed_y}\")"
   ]
  },
  {
   "cell_type": "code",
   "execution_count": null,
   "metadata": {},
   "outputs": [],
   "source": []
  }
 ],
 "metadata": {
  "colab": {
   "collapsed_sections": [],
   "name": "jun_ml_linear_regression_I-hw_9.ipynb",
   "provenance": []
  },
  "kernelspec": {
   "display_name": "Python 3",
   "language": "python",
   "name": "python3"
  },
  "language_info": {
   "codemirror_mode": {
    "name": "ipython",
    "version": 3
   },
   "file_extension": ".py",
   "mimetype": "text/x-python",
   "name": "python",
   "nbconvert_exporter": "python",
   "pygments_lexer": "ipython3",
   "version": "3.9.5"
  }
 },
 "nbformat": 4,
 "nbformat_minor": 1
}
