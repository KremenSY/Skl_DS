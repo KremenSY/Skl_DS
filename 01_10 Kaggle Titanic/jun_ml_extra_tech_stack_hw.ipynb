{
 "cells": [
  {
   "cell_type": "markdown",
   "metadata": {
    "id": "YTnbWDwjNqBj"
   },
   "source": [
    "# Stacking\n",
    "\n",
    "Несмотря на то, что в открытом доступе существует довольно много реализаций стекинга, некоторые из которых даже представлены в виде библиотечных функций, лучше сделать собственную. Стекинг - не классический алгоритм решения задачи, а скорее набор правил для помощи в решении задачи другим алгоритмам. Если вы серьезно займетесь машинным обучением, рано или поздно вам скорее всего захочется что-нибудь поменять в этом наборе правил, поэтому собственная реализация с понятным вам кодом будет как нельзя кстати."
   ]
  },
  {
   "cell_type": "markdown",
   "metadata": {
    "id": "F0AKW53hNqBk"
   },
   "source": [
    "В этом домашнем задании вы создадите собственную функцию для блендинга/классического стекинга моделей, которая пригодится вам в дальнейшем.\n",
    "\n",
    "Ниже вы увидите заготовку для функции, где:\n",
    "\n",
    "- models - список объектов базовых алгоритмов\n",
    "\n",
    "- meta_alg - мета-алгоритм\n",
    "\n",
    "data_train, targets_train, data_test, targets_test - тренировочные и тестовые признаки и целевые переменные\n",
    "\n",
    "- test_size - размер тестовых данных для блендинга в промежутке (0, 1)\n",
    "\n",
    "- cv - количество разбиений для кросс-валидации"
   ]
  },
  {
   "cell_type": "code",
   "execution_count": 1,
   "metadata": {
    "id": "vVIUJhUMNqBl"
   },
   "outputs": [],
   "source": [
    "import numpy as np\n",
    "import pandas as pd\n",
    "from sklearn.neighbors import KNeighborsClassifier\n",
    "from sklearn.linear_model import LogisticRegression\n",
    "from sklearn.svm import SVC\n",
    "from xgboost import XGBClassifier\n",
    "from sklearn.model_selection import cross_val_predict\n",
    "from sklearn.model_selection import StratifiedKFold\n",
    "from sklearn.model_selection import train_test_split\n",
    "from sklearn.metrics import roc_auc_score\n",
    "import warnings\n",
    "from sklearn.model_selection import StratifiedKFold \n",
    "from sklearn.model_selection import cross_val_predict\n",
    "from sklearn.model_selection import RepeatedStratifiedKFold\n",
    "warnings.filterwarnings('ignore')"
   ]
  },
  {
   "cell_type": "code",
   "execution_count": 2,
   "metadata": {},
   "outputs": [],
   "source": [
    "titanic = pd.read_csv('titanic_preprocessed.csv')\n",
    "targets = titanic.Survived\n",
    "data = titanic.drop(columns='Survived')"
   ]
  },
  {
   "cell_type": "markdown",
   "metadata": {
    "id": "qMaQZPnxNqBr"
   },
   "source": [
    "### 1.\n",
    "В следующей ячейке в теле функции определен условный оператор if-else. После elif вместо pass пропишите код из лекции с некоторыми новыми вставками в таком порядке: деление data_train и targets_train на тренировочные и валидационные данные с помощью функции train_test_split, где test_size=test_size из определения функции; определение матрицы meta_mtrx; цикл, в котором заполняется meta_mtrx: сначала строка, где модель обучается с помощью метода fit на тренировочных данных из разбиения, затем строка, где матрица заполняется значениями предсказаний моделей на валидационных данных. На этом цикл заканчивается.\n",
    "\n",
    "После цикла добавьте строку с методом fit мета-алгоритма: обучите его на значениях полученной матрицы meta_mtrx и целевой переменной для валидационных данных.\n",
    "\n",
    "Определите матрицу meta_mtrx_test. Напишите цикл, где эта матрица заполняется предсказаниями базовых моделей на тестовых данных data_test.\n",
    "\n",
    "После цикла сделайте предсказания мета-алгоритма для значений матрицы meta_mtrx_test.\n",
    "\n",
    "Дополните код еще одним оператором if, который будет проверять, существуют ли данные targets_test для проверки качества работы модели на тестовых данных: если targets_test не является None, тогда выведите метрику roc_auc_score для предсказаний мета-алгоритма на тестовых данных."
   ]
  },
  {
   "cell_type": "markdown",
   "metadata": {
    "id": "VZ7ssAZ-NqBu"
   },
   "source": [
    "### 2.\n",
    "Теперь напишите код стекинга вместо pass после оператора if.\n",
    "\n",
    "Сразу определите матрицу meta_mtrx. Напишите цикл для заполнения матрицы: сначала напишите строку, где каждый столбец метапризнаков (для каждой модели) заполняется с помощью функции cross_val_predict(base_algotithm, data_train, targets_train, cv, method='predict'); следующая строка - обучите каждый базовый алгоритм на полном тренировочном датасете.\n",
    "\n",
    "После цикла обучите мета-алгоритм на матрице метапризнаков meta_mtrx. Определите матрицу meta_mtrx_test.\n",
    "\n",
    "Напишите второй цикл, где матрица meta_mtrx_test заполняется предсказаниями базовых моделей на тестовых данных data_test.\n",
    "\n",
    "После цикла сделайте предсказания мета-алгоритма для значений матрицы meta_mtrx_test.\n",
    "\n",
    "Так же, как и для блендинга, напишите код проверки для targets_test и выведите roc_auc_score, если это возможно."
   ]
  },
  {
   "cell_type": "code",
   "execution_count": 7,
   "metadata": {
    "id": "1aYbDelYNqBu"
   },
   "outputs": [],
   "source": [
    "def stacking(models, meta_alg, data_train, targets_train, data_test, targets_test=None, random_state=None, test_size=None, cv=5):    \n",
    "    if test_size is None:\n",
    "        print(\"test_size is None\")\n",
    "        rsf=RepeatedStratifiedKFold(n_splits=cv, n_repeats=cv, random_state=17)\n",
    "        meta_mtrx = np.empty((data_test.shape[0], len(models)))\n",
    "        for n, model in enumerate(models):\n",
    "            model.fit(data_train, targets_train)\n",
    "            meta_mtrx[:, n] = model.predict(x_test)\n",
    "        meta_model = meta_alg.fit(meta_mtrx, y_test)\n",
    "        meta_mtrx_test = np.empty((x_test.shape[0], len(models))) \n",
    "        for n, model in enumerate(models):\n",
    "            meta_mtrx_test[:, n] = model.predict(x_test)\n",
    "        meta_predict = meta_alg.predict(meta_mtrx_test)\n",
    "        if targets_test is not None:\n",
    "            print(f'Stacking AUC: {roc_auc_score(y_test, meta_predict)}')\n",
    "        return meta_predict\n",
    "\n",
    "#         print(\"test_size is None\")\n",
    "#         meta_mtrx = np.empty((data_test.shape[0], len(models)))\n",
    "#         for n, model in enumerate(models):\n",
    "#             model.fit(data_train, targets_train)\n",
    "#             meta_mtrx[:, n] = cross_val_predict(model, data_test, targets_test, cv=cv)\n",
    "#         meta_model = meta_alg.fit(meta_mtrx, y_test)\n",
    "#         meta_mtrx_test = np.empty((x_test.shape[0], len(models))) \n",
    "#         for n, model in enumerate(models):\n",
    "#             meta_mtrx_test[:, n] = model.predict(x_test)\n",
    "#         meta_predict = meta_alg.predict(meta_mtrx_test)\n",
    "#         if targets_test is not None:\n",
    "#             print(f'Stacking AUC: {roc_auc_score(y_test, meta_predict)}')\n",
    "#         return meta_predict\n",
    "    \n",
    "    elif test_size > 0 and test_size < 1:\n",
    "        print(\"0<test_size is<1\")\n",
    "        train, valid, train_true, valid_true = train_test_split(data_train, \n",
    "                                                        targets_train,\n",
    "                                                        train_size=1-test_size,\n",
    "                                                        random_state=17)\n",
    "        meta_mtrx = np.empty((valid.shape[0], len(models)))\n",
    "        for n, model in enumerate(models):\n",
    "            \n",
    "            model.fit(train,train_true)\n",
    "            \n",
    "            meta_mtrx[:, n] = model.predict(valid)\n",
    "        meta_model = meta_alg.fit(meta_mtrx, valid_true)\n",
    "        meta_mtrx_test = np.empty((x_test.shape[0], len(models))) \n",
    "        for n, model in enumerate(models):\n",
    "            meta_mtrx_test[:, n] = model.predict(x_test)\n",
    "        meta_predict = meta_alg.predict(meta_mtrx_test)\n",
    "        if targets_test is not None:\n",
    "            print(f'Stacking AUC: {roc_auc_score(y_test, meta_predict)}')\n",
    "        return meta_predict\n",
    "    else:\n",
    "        raise ValueError(\"test_size must be between 0 and 1\")"
   ]
  },
  {
   "cell_type": "markdown",
   "metadata": {
    "id": "ktP_ZympNqBx"
   },
   "source": [
    "### 3.\n",
    "Базовая функция стекинга готова. Теперь проверим, как она работает. Ниже представлен уже знакомый нам датасет Titanic, разделенный на тренировочный и тестовый датасеты; предопределенные базовые алгоритмы и мета-алгоритм. Ваша задача - составить список базовых алгоритмов и запустить функцию в трех различных вариантах (при этом в каждом из них все значения data_train, targets_train, data_test, targets_test должны быть определены):\n",
    "\n",
    "1. Вызвать исключение \"test_size must be between 0 and 1\".\n",
    "\n",
    "2. Установить test_size=0.3; вывести AUC и массив полученных предсказаний.\n",
    "\n",
    "3. Оставить test_size=None; вывести AUC и массив полученных предсказаний."
   ]
  },
  {
   "cell_type": "code",
   "execution_count": 8,
   "metadata": {
    "id": "2kJT4LjRNqBx"
   },
   "outputs": [
    {
     "name": "stdout",
     "output_type": "stream",
     "text": [
      "test_size is None\n",
      "Stacking AUC: 0.7622770741793746\n",
      "[0 1 0 0 1 0 0 0 0 1 1 0 0 0 1 0 1 0 1 0 1 0 1 0 1 0 0 0 0 0 0 0 0 1 0 1 0\n",
      " 1 0 1 1 0 1 0 0 0 0 1 1 0 1 1 0 0 0 1 0 0 0 0 1 0 1 1 1 1 1 0 0 0 1 0 0 0\n",
      " 0 0 1 0 0 0 1 1 0 0 0 0 0 0 0 1 1 1 0 0 0 0 1 0 0 1 0 1 1 1 1 1 0 0 0 0 0\n",
      " 0 0 1 1 1 1 0 1 0 0 1 1 0 1 0 0 1 0 0 0 1 0 1 0 0 0 0 1 1 0 0 0 1 0 1 0 0\n",
      " 0 0 1 0 0 0 1 0 0 0 1 0 1 0 1 0 0 1 0 1 0 0 1 0 1 0 0 0 1 0 1]\n",
      "0<test_size is<1\n",
      "Stacking AUC: 0.7403721891961748\n",
      "[0 1 0 0 1 0 0 0 0 1 1 0 1 0 1 0 1 0 1 0 1 0 1 0 1 0 0 0 0 0 0 0 0 1 0 1 0\n",
      " 1 0 1 1 0 1 0 1 0 1 1 1 0 1 1 0 0 0 1 0 0 0 0 1 0 1 1 1 1 1 0 0 0 1 0 0 1\n",
      " 0 1 1 0 0 0 1 1 1 0 0 0 0 0 0 1 1 1 0 0 0 0 1 0 0 1 0 1 1 1 1 1 0 1 0 0 0\n",
      " 0 0 1 1 1 1 0 1 0 0 1 1 0 1 0 0 1 0 0 0 1 0 1 0 0 1 0 1 1 0 0 0 1 0 1 0 0\n",
      " 1 1 1 0 0 0 1 0 0 0 1 0 1 1 1 0 0 1 0 1 0 0 1 0 1 0 1 0 1 0 1]\n",
      "Error occured: test_size must be between 0 and 1\n"
     ]
    }
   ],
   "source": [
    "knn = KNeighborsClassifier(n_neighbors=3)\n",
    "lr = LogisticRegression(random_state=17, solver='newton-cg')\n",
    "svc = SVC(random_state=17)\n",
    "# knn_model = knn.fit(x_train, y_train)\n",
    "# lr_model = lr.fit(x_train, y_train)\n",
    "# svc_model = svc.fit(x_train, y_train)\n",
    "# models=[knn_model, lr_model, svc_model]\n",
    "models=[knn, lr, svc]\n",
    "meta_alg = XGBClassifier(n_estimators=40, use_label_encoder=False, eval_metric='error')\n",
    "x_train, x_test, y_train, y_test = train_test_split(data, \n",
    "                                                    targets,\n",
    "                                                    train_size=0.8,\n",
    "                                                    random_state=17)\n",
    "cv=5\n",
    "test_size=0.3\n",
    "\n",
    "s=stacking(models, meta_alg, x_train, y_train, x_test, y_test, 17)\n",
    "print (s)\n",
    "s=stacking(models, meta_alg, x_train, y_train, x_test, y_test, 17, 0.3, cv)\n",
    "print (s)\n",
    "try:\n",
    "    s=stacking(models, meta_alg, x_train, y_train, x_test, y_test, 17, 5, cv)\n",
    "    print (s)\n",
    "except Exception as e:\n",
    "    print(\"Error occured:\", e)"
   ]
  },
  {
   "cell_type": "markdown",
   "metadata": {
    "id": "QT9CNfbBNqB2"
   },
   "source": [
    "По мере того, как вы будете использовать эту функцию, вам могут пригодиться такие дополнительные параметры как: random_state, который позволит делать воспроизводимые модели; metrics - список метрик, которые могут быть вычислены; grid_search, который может производить поиск лучших параметров для алгоритмов, и т.д."
   ]
  }
 ],
 "metadata": {
  "colab": {
   "collapsed_sections": [],
   "name": "jun_ml_extra_tech_stack-hw.ipynb",
   "provenance": []
  },
  "kernelspec": {
   "display_name": "Python 3",
   "language": "python",
   "name": "python3"
  },
  "language_info": {
   "codemirror_mode": {
    "name": "ipython",
    "version": 3
   },
   "file_extension": ".py",
   "mimetype": "text/x-python",
   "name": "python",
   "nbconvert_exporter": "python",
   "pygments_lexer": "ipython3",
   "version": "3.9.5"
  }
 },
 "nbformat": 4,
 "nbformat_minor": 1
}
