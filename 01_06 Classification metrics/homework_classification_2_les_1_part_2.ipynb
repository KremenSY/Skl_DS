{
 "cells": [
  {
   "cell_type": "markdown",
   "metadata": {
    "id": "p0RpWMuyhXNc"
   },
   "source": [
    "# Урок 4. Метрики качества классификации ч.2\n",
    "\n",
    "Продолжим работу с метриками классификации. В предыдущем задании мы разобрали матрицу ошибок и две основные метрики, которые используются при бинарной классификации.\n",
    "\n",
    "Сейчас рассмотрим F-меру - совокупную метрику по precision и recall - и более сложную AUC-ROC."
   ]
  },
  {
   "cell_type": "markdown",
   "metadata": {
    "id": "desLnfjBhXNe"
   },
   "source": [
    "### 2.1\n",
    "Из задания к предыдущему уроку выберите классификатор, который давал наименьшее значение recall, вычислите для него precision, применив precision_score, и самостоятельно посчитайте F1-меру (расчеты должны присутствовать). Затем проверьте ответ, используя встроенную функцию.\n",
    "\n",
    "Сравните полученную f1-меру со значением среднего арифметического полноты и точности."
   ]
  },
  {
   "cell_type": "code",
   "execution_count": 1,
   "metadata": {},
   "outputs": [],
   "source": [
    "# TP(True positive), TN (True negative), FP (False positive), FN (False negtive)\n",
    "# Accuracy=(TP+TN)/(TP+FP+FN+TN)\n",
    "# Precision=TP/(TP+FP)\n",
    "# Recall=TP/TP+FN\n",
    "# Arithmetic mean=(Precission+Recall)/2\n",
    "# F-measure (Harmonic mean)=(1+b*b)*(precission*recall)/(b*b*precission+recall)\n",
    "# AUC-ROC - Area Under Curve(Receiver Operating Characteristic curve) \n",
    "# # in coordinates of x=𝐹𝑃𝑅 (false posotove rate) =𝐹𝑃/(𝐹𝑃+𝑇𝑁) and 𝑇𝑃𝑅 (true positive rate) =𝑇𝑃/(𝑇𝑃+𝐹𝑁)\n",
    "# # in range from 0.5 (worst) to 1 (best)"
   ]
  },
  {
   "cell_type": "code",
   "execution_count": 2,
   "metadata": {
    "id": "PqBv_cQmhXNf"
   },
   "outputs": [],
   "source": [
    "import pandas as pd\n",
    "import numpy as np\n",
    "import math\n",
    "from sklearn.metrics import precision_recall_fscore_support, classification_report,f1_score\n",
    "from sklearn.model_selection import train_test_split\n",
    "from sklearn.metrics import confusion_matrix, recall_score, precision_score, f1_score\n",
    "from sklearn.neighbors import KNeighborsClassifier\n",
    "from sklearn.naive_bayes import GaussianNB\n",
    "from sklearn.tree import DecisionTreeClassifier\n",
    "from sklearn.linear_model import LogisticRegression\n",
    "from sklearn.metrics import precision_recall_fscore_support, classification_report\n",
    "from sklearn import preprocessing\n",
    "from sklearn.preprocessing import MinMaxScaler\n",
    "from sklearn.model_selection import StratifiedKFold\n",
    "from sklearn.linear_model import LogisticRegressionCV\n",
    "import matplotlib.pyplot as plt"
   ]
  },
  {
   "cell_type": "code",
   "execution_count": 3,
   "metadata": {
    "id": "7inF9IHdhXNl"
   },
   "outputs": [
    {
     "data": {
      "text/html": [
       "<div>\n",
       "<style scoped>\n",
       "    .dataframe tbody tr th:only-of-type {\n",
       "        vertical-align: middle;\n",
       "    }\n",
       "\n",
       "    .dataframe tbody tr th {\n",
       "        vertical-align: top;\n",
       "    }\n",
       "\n",
       "    .dataframe thead th {\n",
       "        text-align: right;\n",
       "    }\n",
       "</style>\n",
       "<table border=\"1\" class=\"dataframe\">\n",
       "  <thead>\n",
       "    <tr style=\"text-align: right;\">\n",
       "      <th></th>\n",
       "      <th>Survived</th>\n",
       "      <th>Pclass</th>\n",
       "      <th>Sex</th>\n",
       "      <th>Age</th>\n",
       "      <th>SibSp</th>\n",
       "      <th>Parch</th>\n",
       "      <th>Fare</th>\n",
       "      <th>Embarked</th>\n",
       "    </tr>\n",
       "  </thead>\n",
       "  <tbody>\n",
       "    <tr>\n",
       "      <th>0</th>\n",
       "      <td>0.0</td>\n",
       "      <td>1.0</td>\n",
       "      <td>0.0</td>\n",
       "      <td>0.271174</td>\n",
       "      <td>0.125</td>\n",
       "      <td>0.000000</td>\n",
       "      <td>0.014151</td>\n",
       "      <td>0.2</td>\n",
       "    </tr>\n",
       "    <tr>\n",
       "      <th>1</th>\n",
       "      <td>1.0</td>\n",
       "      <td>0.0</td>\n",
       "      <td>1.0</td>\n",
       "      <td>0.472229</td>\n",
       "      <td>0.125</td>\n",
       "      <td>0.000000</td>\n",
       "      <td>0.139136</td>\n",
       "      <td>1.0</td>\n",
       "    </tr>\n",
       "    <tr>\n",
       "      <th>2</th>\n",
       "      <td>1.0</td>\n",
       "      <td>1.0</td>\n",
       "      <td>1.0</td>\n",
       "      <td>0.321438</td>\n",
       "      <td>0.000</td>\n",
       "      <td>0.000000</td>\n",
       "      <td>0.015469</td>\n",
       "      <td>0.2</td>\n",
       "    </tr>\n",
       "    <tr>\n",
       "      <th>3</th>\n",
       "      <td>1.0</td>\n",
       "      <td>0.0</td>\n",
       "      <td>1.0</td>\n",
       "      <td>0.434531</td>\n",
       "      <td>0.125</td>\n",
       "      <td>0.000000</td>\n",
       "      <td>0.103644</td>\n",
       "      <td>0.2</td>\n",
       "    </tr>\n",
       "    <tr>\n",
       "      <th>4</th>\n",
       "      <td>0.0</td>\n",
       "      <td>1.0</td>\n",
       "      <td>0.0</td>\n",
       "      <td>0.434531</td>\n",
       "      <td>0.000</td>\n",
       "      <td>0.000000</td>\n",
       "      <td>0.015713</td>\n",
       "      <td>0.2</td>\n",
       "    </tr>\n",
       "    <tr>\n",
       "      <th>...</th>\n",
       "      <td>...</td>\n",
       "      <td>...</td>\n",
       "      <td>...</td>\n",
       "      <td>...</td>\n",
       "      <td>...</td>\n",
       "      <td>...</td>\n",
       "      <td>...</td>\n",
       "      <td>...</td>\n",
       "    </tr>\n",
       "    <tr>\n",
       "      <th>886</th>\n",
       "      <td>0.0</td>\n",
       "      <td>0.5</td>\n",
       "      <td>0.0</td>\n",
       "      <td>0.334004</td>\n",
       "      <td>0.000</td>\n",
       "      <td>0.000000</td>\n",
       "      <td>0.025374</td>\n",
       "      <td>0.2</td>\n",
       "    </tr>\n",
       "    <tr>\n",
       "      <th>887</th>\n",
       "      <td>1.0</td>\n",
       "      <td>0.0</td>\n",
       "      <td>1.0</td>\n",
       "      <td>0.233476</td>\n",
       "      <td>0.000</td>\n",
       "      <td>0.000000</td>\n",
       "      <td>0.058556</td>\n",
       "      <td>0.2</td>\n",
       "    </tr>\n",
       "    <tr>\n",
       "      <th>888</th>\n",
       "      <td>0.0</td>\n",
       "      <td>1.0</td>\n",
       "      <td>1.0</td>\n",
       "      <td>0.334004</td>\n",
       "      <td>0.125</td>\n",
       "      <td>0.333333</td>\n",
       "      <td>0.045771</td>\n",
       "      <td>0.2</td>\n",
       "    </tr>\n",
       "    <tr>\n",
       "      <th>889</th>\n",
       "      <td>1.0</td>\n",
       "      <td>0.0</td>\n",
       "      <td>0.0</td>\n",
       "      <td>0.321438</td>\n",
       "      <td>0.000</td>\n",
       "      <td>0.000000</td>\n",
       "      <td>0.058556</td>\n",
       "      <td>1.0</td>\n",
       "    </tr>\n",
       "    <tr>\n",
       "      <th>890</th>\n",
       "      <td>0.0</td>\n",
       "      <td>1.0</td>\n",
       "      <td>0.0</td>\n",
       "      <td>0.396833</td>\n",
       "      <td>0.000</td>\n",
       "      <td>0.000000</td>\n",
       "      <td>0.015127</td>\n",
       "      <td>1.0</td>\n",
       "    </tr>\n",
       "  </tbody>\n",
       "</table>\n",
       "<p>891 rows × 8 columns</p>\n",
       "</div>"
      ],
      "text/plain": [
       "     Survived  Pclass  Sex       Age  SibSp     Parch      Fare  Embarked\n",
       "0         0.0     1.0  0.0  0.271174  0.125  0.000000  0.014151       0.2\n",
       "1         1.0     0.0  1.0  0.472229  0.125  0.000000  0.139136       1.0\n",
       "2         1.0     1.0  1.0  0.321438  0.000  0.000000  0.015469       0.2\n",
       "3         1.0     0.0  1.0  0.434531  0.125  0.000000  0.103644       0.2\n",
       "4         0.0     1.0  0.0  0.434531  0.000  0.000000  0.015713       0.2\n",
       "..        ...     ...  ...       ...    ...       ...       ...       ...\n",
       "886       0.0     0.5  0.0  0.334004  0.000  0.000000  0.025374       0.2\n",
       "887       1.0     0.0  1.0  0.233476  0.000  0.000000  0.058556       0.2\n",
       "888       0.0     1.0  1.0  0.334004  0.125  0.333333  0.045771       0.2\n",
       "889       1.0     0.0  0.0  0.321438  0.000  0.000000  0.058556       1.0\n",
       "890       0.0     1.0  0.0  0.396833  0.000  0.000000  0.015127       1.0\n",
       "\n",
       "[891 rows x 8 columns]"
      ]
     },
     "execution_count": 3,
     "metadata": {},
     "output_type": "execute_result"
    }
   ],
   "source": [
    "df=pd.read_csv(\"titanic_preprocessed.csv\", sep=\",\")\n",
    "X=np.array(df.drop(['Survived'], axis=1))\n",
    "y=np.array(df['Survived'])\n",
    "X_train, X_test, y_train, y_test=train_test_split(X, y, test_size=0.25, random_state=17)\n",
    "# normalized_data = preprocessing.normalize(df, axis=0)\n",
    "# normalized_df = pd.DataFrame(normalized_data, columns=df.columns)\n",
    "# normalized_df\n",
    "scaler = MinMaxScaler()\n",
    "data_scaled = scaler.fit_transform(df)\n",
    "df_scaled=pd.DataFrame(data_scaled, columns=df.columns)\n",
    "df=df_scaled      \n",
    "df"
   ]
  },
  {
   "cell_type": "code",
   "execution_count": 4,
   "metadata": {},
   "outputs": [
    {
     "name": "stdout",
     "output_type": "stream",
     "text": [
      "f1= 0.5868263473053893\n",
      "f1= 0.5868263473053893\n",
      "avg= 0.5929710144927536\n"
     ]
    }
   ],
   "source": [
    "classifier_knn=KNeighborsClassifier(n_neighbors=5)\n",
    "model_knn=classifier_knn.fit(X_train, y_train)\n",
    "predictions_knn=classifier_knn.predict(X_test)\n",
    "precission=precision_score(y_test, predictions_knn)\n",
    "recall=recall_score(y_test, predictions_knn)\n",
    "b=1\n",
    "f1_=(1+b*b)*(precission*recall)/(b*b*precission+recall)\n",
    "print(\"f1=\", f1_)\n",
    "f1=f1_score(y_test, predictions_knn)\n",
    "print(\"f1=\", f1)\n",
    "avg=(precission+recall)/2\n",
    "print(\"avg=\", avg)"
   ]
  },
  {
   "cell_type": "markdown",
   "metadata": {
    "id": "zx1hiPXxhXNp"
   },
   "source": [
    "В библиотеке sklearn есть удобная функция classification_report, возвращающая precision, recall, F-меру и количество экземпляров каждого класса в удобном для чтения формате. Также существует функция precision_recall_fscore_support, возвращающая те же самые метрики, но в форме массива.\n",
    "\n",
    "### 2.2\n",
    "Для каждого классификатора из предыдущего урока рассчитайте и выведите следующие импортированные метрики."
   ]
  },
  {
   "cell_type": "code",
   "execution_count": 5,
   "metadata": {
    "id": "vhcIcGX5hXNq"
   },
   "outputs": [],
   "source": [
    "from sklearn.metrics import precision_recall_fscore_support, classification_report"
   ]
  },
  {
   "cell_type": "code",
   "execution_count": 6,
   "metadata": {
    "id": "zUPZhuTGhXNt"
   },
   "outputs": [
    {
     "name": "stdout",
     "output_type": "stream",
     "text": [
      "(0.6905829596412556, 0.6905829596412556, 0.6905829596412556, None)\n",
      "              precision    recall  f1-score   support\n",
      "\n",
      "           0       0.71      0.80      0.75       131\n",
      "           1       0.65      0.53      0.59        92\n",
      "\n",
      "    accuracy                           0.69       223\n",
      "   macro avg       0.68      0.67      0.67       223\n",
      "weighted avg       0.69      0.69      0.68       223\n",
      "\n",
      "(0.7892376681614349, 0.7892376681614349, 0.7892376681614348, None)\n",
      "              precision    recall  f1-score   support\n",
      "\n",
      "           0       0.81      0.83      0.82       131\n",
      "           1       0.75      0.73      0.74        92\n",
      "\n",
      "    accuracy                           0.79       223\n",
      "   macro avg       0.78      0.78      0.78       223\n",
      "weighted avg       0.79      0.79      0.79       223\n",
      "\n",
      "(0.7982062780269058, 0.7982062780269058, 0.7982062780269058, None)\n",
      "              precision    recall  f1-score   support\n",
      "\n",
      "           0       0.81      0.85      0.83       131\n",
      "           1       0.78      0.72      0.75        92\n",
      "\n",
      "    accuracy                           0.80       223\n",
      "   macro avg       0.79      0.79      0.79       223\n",
      "weighted avg       0.80      0.80      0.80       223\n",
      "\n",
      "(0.7892376681614349, 0.7892376681614349, 0.7892376681614348, None)\n",
      "              precision    recall  f1-score   support\n",
      "\n",
      "           0       0.80      0.85      0.83       131\n",
      "           1       0.77      0.70      0.73        92\n",
      "\n",
      "    accuracy                           0.79       223\n",
      "   macro avg       0.79      0.78      0.78       223\n",
      "weighted avg       0.79      0.79      0.79       223\n",
      "\n"
     ]
    }
   ],
   "source": [
    "# KNN (K Nearest Neighbors)\n",
    "classifirer_knn = KNeighborsClassifier(n_neighbors=5)\n",
    "model_knn=classifirer_knn.fit(X_train, y_train)\n",
    "predictions_knn=classifirer_knn.predict(X_test)\n",
    "\n",
    "rrfs_knn=precision_recall_fscore_support(y_test, predictions_knn, average='micro')\n",
    "cr_knn=classification_report(y_test, predictions_knn)\n",
    "print(rrfs_knn)\n",
    "print(cr_knn)\n",
    "\n",
    "# Gaussian Naive Bayes\n",
    "classifier_gnb=GaussianNB()\n",
    "model_gnb=classifier_gnb.fit(X_train, y_train)\n",
    "predictions_gnb=classifier_gnb.predict(X_test)\n",
    "\n",
    "rrfs_gnb=precision_recall_fscore_support(y_test, predictions_gnb, average='micro')\n",
    "cr_gnb=classification_report(y_test, predictions_gnb)\n",
    "print(rrfs_gnb)\n",
    "print(cr_gnb)\n",
    "\n",
    "# Decision Tree\n",
    "classifier_dtc=DecisionTreeClassifier(random_state=17)\n",
    "model_dtc=classifier_dtc.fit(X_train, y_train)\n",
    "predictions_dtc=classifier_dtc.predict(X_test)\n",
    "\n",
    "rrfs_dtc=precision_recall_fscore_support(y_test, predictions_dtc, average='micro')\n",
    "cr_dtc=classification_report(y_test, predictions_dtc)\n",
    "print(rrfs_dtc)\n",
    "print(cr_dtc)\n",
    "\n",
    "# Logistic regression\n",
    "classifier_lr=LogisticRegression(solver='lbfgs', random_state=17)\n",
    "model_lr=classifier_lr.fit(X_train, y_train)\n",
    "predictions_lr=classifier_lr.predict(X_test)\n",
    "\n",
    "rrfs_lr=precision_recall_fscore_support(y_test, predictions_lr, average='micro')\n",
    "cr_lr=classification_report(y_test, predictions_lr)\n",
    "print(rrfs_lr)\n",
    "print(cr_lr)"
   ]
  },
  {
   "cell_type": "markdown",
   "metadata": {
    "id": "sAisAae0hXNx"
   },
   "source": [
    "Вернемся к классификатору LogisticRegression, который мы обучали в предыдущем задании. Там мы не затрагивали настройку гиперпараметров: сделать это можно с помощью LogisticRegressionCV - перебора параметров по сетке с последующей кросс-валидацией (по сути это аналог GridSearchCV, но со своими параметрами внутри, применимыми только к логистической регрессии). Этот класс создан специально для логистической регрессии, т.к. для нее известны эффективные алгоритмы перебора параметров.\n",
    "\n",
    "У LogisticRegression есть гиперпараметр C - обратный коэффициент регуляризации. Не вдаваясь в подробное описание по формуле, можно сказать, что C соответствует \"сложности\" модели: чем больше C, тем более сложные зависимости может восстанавливать модель; если параметр C слишком мал (слишком сильная регуляризация), то модель окажется недообученной, а если наоборот регуляризация слишком слабая (т.е. C принимает большие значения), то скорее всего модель окажется переобученной, потому как модель будет слишком \"бояться\" ошибиться на обучающей выборке."
   ]
  },
  {
   "cell_type": "markdown",
   "metadata": {
    "id": "L-j5LLf3hXNx"
   },
   "source": [
    "### 2.3 \n",
    "\n",
    "1. Используя StratifiedKFold, разбейте данные для кросс-валидации по 5-ти блокам (не забывайте во всех методах использовать random_state=17).\n",
    "2. С помощью numpy.logspace разбейте интервал (-1, 2) на 500 значений.\n",
    "3. С помощью LogisticRegressionCV подберите оптимальный параметр C: установите гиперпараметр Cs равным объекту из п.2 (разбиение интервала (-1, 2) отвечает за подбор обратного коэффициента регуляризации C); cv равным объекту из п.1 (разбиение для кросс-валидации); scoring равным \"roc_auc\" (отвечает за оптимизацию гиперпараметров на кросс-валидации: метрика, установленная в scoring, контролирует, как оценивать модель при каждом из наборе параметров, т.е. показывает, какая метрика должна быть наилучшей).\n",
    "4. Обучите полученную модель на тренировочных данных."
   ]
  },
  {
   "cell_type": "code",
   "execution_count": 10,
   "metadata": {
    "id": "0ezY2p2RhXN4"
   },
   "outputs": [
    {
     "name": "stdout",
     "output_type": "stream",
     "text": [
      "StratifiedKFold(n_splits=5, random_state=17, shuffle=True)\n",
      "[0 1 1 1 0 0 0 0 1 1 1 1 0 0 1 1 0 0 0 1 0 0 1 0 1 0 0 1 1 0 0 1 1 0 1 0 0\n",
      " 0 0 1 0 1 0 1 1 0 0 1 0 1 0 0 1 1 0 0 1 0 1 0 0 1 0 0 1 0 1 0 0 0 0 0 0 0\n",
      " 0 0 0 0 0 1 0 0 1 0 1 0 0 0 1 0 0 0 0 0 0 0 0 1 1 0 1 0 1 0 0 0 1 0 0 1 0\n",
      " 1 0 1 1 0 0 0 1 0 0 0 0 1 0 0 0 0 1 0 0 0 0 1 0 0 1 0 0 1 1 1 1 0 0 0 0 1\n",
      " 0 0 0 1 0 0 0 0 1 0 0 0 0 1 0 0 0 0 1 0 0 0 0 0 1 0 0 0 0 1 0 0 0 0 0 0 1\n",
      " 0 1 0 0 0 1 0 1 0 1 1 0 0 1 1 0 0 0 0 0 1 0 0 1 0 0 1 0 0 0 1 1 0 1 0 0 0\n",
      " 0 0 0 0 0 0 0 0 1 0 0 0 0 1 0 1 0 0 1 1 0 0 0 0 1 1 0 0 0 0 0 0 0 1 1 1 1\n",
      " 1 0 0 0 0 1 0 0 0 1 1 0 0 1 0 1 1 0 0 0 0 0 0 0 0 0 0 0 0 0 1 1 1 0 1 0 1\n",
      " 0 1 0 1 1 0 0 1 0 1 1 1 0 1 1 1 1 0 0 1 1 0 1 1 0 0 1 1 0 1 0 1 0 1 1 0 0\n",
      " 0 1 0 0 1 0 0 0 1 0 0 0 1 1 0 0 0 0 0 0 0 0 0 1 1 1 1 0 0 0 0 0 0 1 1 1 1\n",
      " 1 0 0 1 1 1 1 1 0 0 1 1 0 1 0 0 0 1 0 1 0 0 0 1 1 0 1 0 0 1 0 0 1 0 1 0 0\n",
      " 0 0 0 0 0 1 0 0 1 1 1 0 1 0 0 0 0 0 0 1 1 0 0 0 0 1 0 0 1 0 1 0 0 1 0 0 1\n",
      " 0 1 1 0 1 0 0 0 1 0 0 0 0 1 1 0 0 0 0 0 0 0 0 0 0 1 0 0 1 1 1 0 0 0 0 1 0\n",
      " 0 0 0 1 0 1 0 0 0 0 0 0 0 0 0 1 0 1 0 0 1 1 0 1 1 1 0 0 0 0 0 0 1 0 0 1 0\n",
      " 1 0 1 0 0 1 0 0 1 1 0 0 1 0 0 1 1 1 0 1 0 1 1 0 0 0 0 0 1 0 0 0 1 0 0 0 1\n",
      " 0 1 1 1 0 0 0 0 0 1 0 0 1 0 0 0 1 0 1 0 0 1 1 1 0 1 1 0 1 0 1 0 0 0 0 0 1\n",
      " 0 1 0 0 1 0 0 0 1 0 0 0 1 0 0 0 1 1 0 0 1 0 0 1 0 0 1 0 0 0 0 0 0 0 0 1 0\n",
      " 0 0 0 1 0 0 1 0 0 0 0 0 1 1 0 1 0 0 0 0 1 0 1 0 1 1 0 0 1 0 0 0 0 0 0 0 0\n",
      " 0 0 0 1 1 0 0 0 0 0 0 1 0 1 1 1 0 0 0 0 0 0 0 1 0 1 0 0 0 0 0 1 0 0 1 0 1\n",
      " 0 0 0 1 0 1 0 1 0 0 0 0 0 1 1 0 0 1 0 0 0 0 0 1 1 0 0 1 0 0 0 0 0 0 1 0 0\n",
      " 0 0 1 0 0 0 0 1 1 0 1 0 0 0 1 0 0 0 0 1 0 0 0 1 0 1 1 1 0 0 0 0 1 0 0 0 0\n",
      " 1 0 1 1 1 0 0 0 0 1 0 0 0 0 0 0 1 0 0 1 1 0 0 0 1 1 0 0 0 0 1 0 1 0 0 0 0\n",
      " 0 0 1 0 0 0 1 0 0 1 0 0 0 1 0 1 1 0 0 0 0 1 0 0 0 1 0 0 1 0 0 0 0 0 0 1 0\n",
      " 0 1 1 1 1 1 0 1 0 0 0 1 0 0 1 1 0 0 0 0 1 0 0 1 1 0 0 0 1 1 0 1 0 0 1 0 1\n",
      " 0 1 0]\n",
      "0.8080808080808081\n",
      "{1: array([[0.77094972, 0.77094972, 0.77094972, ..., 0.79329609, 0.79329609,\n",
      "        0.79329609],\n",
      "       [0.7752809 , 0.7752809 , 0.7752809 , ..., 0.79213483, 0.79213483,\n",
      "        0.79213483],\n",
      "       [0.80337079, 0.80337079, 0.80337079, ..., 0.78651685, 0.78651685,\n",
      "        0.78651685],\n",
      "       [0.7752809 , 0.7752809 , 0.7752809 , ..., 0.76966292, 0.76966292,\n",
      "        0.76966292],\n",
      "       [0.83146067, 0.83146067, 0.83146067, ..., 0.82022472, 0.82022472,\n",
      "        0.82022472]])}\n"
     ]
    }
   ],
   "source": [
    "skf = StratifiedKFold(n_splits=5, random_state=17, shuffle=True)\n",
    "s=skf.get_n_splits(X, y)\n",
    "print(skf)\n",
    "# print(len(X))\n",
    "# for train_index, test_index in skf.split(X, y):\n",
    "#     print(\"\\nTRAIN\\n:\", train_index, \"\\n\\nTEST:\\n\", test_index)\n",
    "#     X_train, X_test = X[train_index], X[test_index]\n",
    "#     y_train, y_test = y[train_index], y[test_index]\n",
    "logspace_=np.logspace (start=-1, stop=2, num=500)\n",
    "clf = LogisticRegressionCV(cv=5, Cs=logspace_, random_state=17, max_iter=10000).fit(X, y)\n",
    "print(clf.predict(X))\n",
    "print(clf.score(X, y))\n",
    "print(clf.scores_)"
   ]
  },
  {
   "cell_type": "code",
   "execution_count": 11,
   "metadata": {},
   "outputs": [],
   "source": [
    "# from sklearn.datasets import load_iris\n",
    "# from sklearn.linear_model import LogisticRegressionCV\n",
    "# X, y = load_iris(return_X_y=True)\n",
    "# clf = LogisticRegressionCV(cv=5, random_state=17, max_iter=10000).fit(X, y)\n",
    "# print(clf.predict(X))\n",
    "# print(clf.predict_proba(X).shape)\n",
    "# print(clf.score(X, y))"
   ]
  },
  {
   "cell_type": "code",
   "execution_count": 12,
   "metadata": {},
   "outputs": [
    {
     "name": "stdout",
     "output_type": "stream",
     "text": [
      "[0.7896983240223465, 0.7895393258426966, 0.7901685393258426, 0.7701348314606743, 0.8257528089887638]\n"
     ]
    }
   ],
   "source": [
    "n=np.array(clf.scores_.values)\n",
    "l=list()\n",
    "for value in clf.scores_.values():\n",
    "    for row in value:\n",
    "        avg=np.average(row)\n",
    "        l.append(avg)\n",
    "print(l)"
   ]
  }
 ],
 "metadata": {
  "colab": {
   "collapsed_sections": [],
   "name": "homework_classification-2_les-1_part-2.ipynb",
   "provenance": []
  },
  "kernelspec": {
   "display_name": "Python 3",
   "language": "python",
   "name": "python3"
  },
  "language_info": {
   "codemirror_mode": {
    "name": "ipython",
    "version": 3
   },
   "file_extension": ".py",
   "mimetype": "text/x-python",
   "name": "python",
   "nbconvert_exporter": "python",
   "pygments_lexer": "ipython3",
   "version": "3.9.5"
  }
 },
 "nbformat": 4,
 "nbformat_minor": 1
}
