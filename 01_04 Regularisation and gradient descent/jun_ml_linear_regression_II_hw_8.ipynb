{
 "cells": [
  {
   "cell_type": "markdown",
   "metadata": {
    "id": "90H1_YdZMMbo"
   },
   "source": [
    "### Урок 8. Домашняя работа\n",
    "\n",
    "**Задание среднего уровня** Примените градиентный спуск к задаче прогнозирования цен на недвижимость в Бостоне. Какого качества на валидации удалось достичь по r2-score? Сколько итераций  понадобилось?"
   ]
  },
  {
   "cell_type": "code",
   "execution_count": 78,
   "metadata": {},
   "outputs": [],
   "source": [
    "import pandas as pd\n",
    "import numpy as np\n",
    "from sklearn import preprocessing\n",
    "from sklearn.datasets import load_boston\n",
    "from sklearn.model_selection import train_test_split\n",
    "from sklearn.linear_model import SGDRegressor\n",
    "from sklearn.metrics import mean_squared_error\n",
    "from sklearn.metrics import r2_score\n",
    "from scipy.spatial import distance\n",
    "import matplotlib.pyplot as plt"
   ]
  },
  {
   "cell_type": "code",
   "execution_count": 79,
   "metadata": {
    "id": "0q8EbVXRMMbp"
   },
   "outputs": [],
   "source": [
    "# boston_dataset = load_boston()\n",
    "# X = boston_dataset.data\n",
    "# y = boston_dataset.target\n",
    "# X_train, X_valid, y_train, y_valid = train_test_split(X, y, test_size=0.2, random_state=10)"
   ]
  },
  {
   "cell_type": "code",
   "execution_count": 80,
   "metadata": {},
   "outputs": [
    {
     "data": {
      "text/html": [
       "<div>\n",
       "<style scoped>\n",
       "    .dataframe tbody tr th:only-of-type {\n",
       "        vertical-align: middle;\n",
       "    }\n",
       "\n",
       "    .dataframe tbody tr th {\n",
       "        vertical-align: top;\n",
       "    }\n",
       "\n",
       "    .dataframe thead th {\n",
       "        text-align: right;\n",
       "    }\n",
       "</style>\n",
       "<table border=\"1\" class=\"dataframe\">\n",
       "  <thead>\n",
       "    <tr style=\"text-align: right;\">\n",
       "      <th></th>\n",
       "      <th>CRIM</th>\n",
       "      <th>ZN</th>\n",
       "      <th>INDUS</th>\n",
       "      <th>CHAS</th>\n",
       "      <th>NOX</th>\n",
       "      <th>RM</th>\n",
       "      <th>AGE</th>\n",
       "      <th>DIS</th>\n",
       "      <th>RAD</th>\n",
       "      <th>TAX</th>\n",
       "      <th>PTRATIO</th>\n",
       "      <th>B</th>\n",
       "      <th>LSTAT</th>\n",
       "      <th>target</th>\n",
       "    </tr>\n",
       "  </thead>\n",
       "  <tbody>\n",
       "    <tr>\n",
       "      <th>0</th>\n",
       "      <td>0.00632</td>\n",
       "      <td>18.0</td>\n",
       "      <td>2.31</td>\n",
       "      <td>0.0</td>\n",
       "      <td>0.538</td>\n",
       "      <td>6.575</td>\n",
       "      <td>65.2</td>\n",
       "      <td>4.0900</td>\n",
       "      <td>1.0</td>\n",
       "      <td>296.0</td>\n",
       "      <td>15.3</td>\n",
       "      <td>396.90</td>\n",
       "      <td>4.98</td>\n",
       "      <td>24.0</td>\n",
       "    </tr>\n",
       "    <tr>\n",
       "      <th>1</th>\n",
       "      <td>0.02731</td>\n",
       "      <td>0.0</td>\n",
       "      <td>7.07</td>\n",
       "      <td>0.0</td>\n",
       "      <td>0.469</td>\n",
       "      <td>6.421</td>\n",
       "      <td>78.9</td>\n",
       "      <td>4.9671</td>\n",
       "      <td>2.0</td>\n",
       "      <td>242.0</td>\n",
       "      <td>17.8</td>\n",
       "      <td>396.90</td>\n",
       "      <td>9.14</td>\n",
       "      <td>21.6</td>\n",
       "    </tr>\n",
       "    <tr>\n",
       "      <th>2</th>\n",
       "      <td>0.02729</td>\n",
       "      <td>0.0</td>\n",
       "      <td>7.07</td>\n",
       "      <td>0.0</td>\n",
       "      <td>0.469</td>\n",
       "      <td>7.185</td>\n",
       "      <td>61.1</td>\n",
       "      <td>4.9671</td>\n",
       "      <td>2.0</td>\n",
       "      <td>242.0</td>\n",
       "      <td>17.8</td>\n",
       "      <td>392.83</td>\n",
       "      <td>4.03</td>\n",
       "      <td>34.7</td>\n",
       "    </tr>\n",
       "    <tr>\n",
       "      <th>3</th>\n",
       "      <td>0.03237</td>\n",
       "      <td>0.0</td>\n",
       "      <td>2.18</td>\n",
       "      <td>0.0</td>\n",
       "      <td>0.458</td>\n",
       "      <td>6.998</td>\n",
       "      <td>45.8</td>\n",
       "      <td>6.0622</td>\n",
       "      <td>3.0</td>\n",
       "      <td>222.0</td>\n",
       "      <td>18.7</td>\n",
       "      <td>394.63</td>\n",
       "      <td>2.94</td>\n",
       "      <td>33.4</td>\n",
       "    </tr>\n",
       "    <tr>\n",
       "      <th>4</th>\n",
       "      <td>0.06905</td>\n",
       "      <td>0.0</td>\n",
       "      <td>2.18</td>\n",
       "      <td>0.0</td>\n",
       "      <td>0.458</td>\n",
       "      <td>7.147</td>\n",
       "      <td>54.2</td>\n",
       "      <td>6.0622</td>\n",
       "      <td>3.0</td>\n",
       "      <td>222.0</td>\n",
       "      <td>18.7</td>\n",
       "      <td>396.90</td>\n",
       "      <td>5.33</td>\n",
       "      <td>36.2</td>\n",
       "    </tr>\n",
       "  </tbody>\n",
       "</table>\n",
       "</div>"
      ],
      "text/plain": [
       "      CRIM    ZN  INDUS  CHAS    NOX     RM   AGE     DIS  RAD    TAX  \\\n",
       "0  0.00632  18.0   2.31   0.0  0.538  6.575  65.2  4.0900  1.0  296.0   \n",
       "1  0.02731   0.0   7.07   0.0  0.469  6.421  78.9  4.9671  2.0  242.0   \n",
       "2  0.02729   0.0   7.07   0.0  0.469  7.185  61.1  4.9671  2.0  242.0   \n",
       "3  0.03237   0.0   2.18   0.0  0.458  6.998  45.8  6.0622  3.0  222.0   \n",
       "4  0.06905   0.0   2.18   0.0  0.458  7.147  54.2  6.0622  3.0  222.0   \n",
       "\n",
       "   PTRATIO       B  LSTAT  target  \n",
       "0     15.3  396.90   4.98    24.0  \n",
       "1     17.8  396.90   9.14    21.6  \n",
       "2     17.8  392.83   4.03    34.7  \n",
       "3     18.7  394.63   2.94    33.4  \n",
       "4     18.7  396.90   5.33    36.2  "
      ]
     },
     "execution_count": 80,
     "metadata": {},
     "output_type": "execute_result"
    }
   ],
   "source": [
    "# dataset preview\n",
    "boston_data = load_boston()\n",
    "df_boston = pd.DataFrame(boston_data.data,columns=boston_data.feature_names)\n",
    "df_boston['target'] = pd.Series(boston_data.target)\n",
    "df_boston.head()"
   ]
  },
  {
   "cell_type": "code",
   "execution_count": 81,
   "metadata": {},
   "outputs": [
    {
     "data": {
      "text/html": [
       "<div>\n",
       "<style scoped>\n",
       "    .dataframe tbody tr th:only-of-type {\n",
       "        vertical-align: middle;\n",
       "    }\n",
       "\n",
       "    .dataframe tbody tr th {\n",
       "        vertical-align: top;\n",
       "    }\n",
       "\n",
       "    .dataframe thead th {\n",
       "        text-align: right;\n",
       "    }\n",
       "</style>\n",
       "<table border=\"1\" class=\"dataframe\">\n",
       "  <thead>\n",
       "    <tr style=\"text-align: right;\">\n",
       "      <th></th>\n",
       "      <th>CRIM</th>\n",
       "      <th>ZN</th>\n",
       "      <th>INDUS</th>\n",
       "      <th>CHAS</th>\n",
       "      <th>NOX</th>\n",
       "      <th>RM</th>\n",
       "      <th>AGE</th>\n",
       "      <th>DIS</th>\n",
       "      <th>RAD</th>\n",
       "      <th>TAX</th>\n",
       "      <th>PTRATIO</th>\n",
       "      <th>B</th>\n",
       "      <th>LSTAT</th>\n",
       "      <th>target</th>\n",
       "    </tr>\n",
       "  </thead>\n",
       "  <tbody>\n",
       "    <tr>\n",
       "      <th>0</th>\n",
       "      <td>0.000030</td>\n",
       "      <td>0.030868</td>\n",
       "      <td>0.007853</td>\n",
       "      <td>0.0</td>\n",
       "      <td>0.042208</td>\n",
       "      <td>0.046222</td>\n",
       "      <td>0.039107</td>\n",
       "      <td>0.041904</td>\n",
       "      <td>0.003442</td>\n",
       "      <td>0.029798</td>\n",
       "      <td>0.036604</td>\n",
       "      <td>0.047927</td>\n",
       "      <td>0.015241</td>\n",
       "      <td>0.043845</td>\n",
       "    </tr>\n",
       "    <tr>\n",
       "      <th>1</th>\n",
       "      <td>0.000130</td>\n",
       "      <td>0.000000</td>\n",
       "      <td>0.024035</td>\n",
       "      <td>0.0</td>\n",
       "      <td>0.036795</td>\n",
       "      <td>0.045139</td>\n",
       "      <td>0.047324</td>\n",
       "      <td>0.050890</td>\n",
       "      <td>0.006883</td>\n",
       "      <td>0.024362</td>\n",
       "      <td>0.042585</td>\n",
       "      <td>0.047927</td>\n",
       "      <td>0.027973</td>\n",
       "      <td>0.039461</td>\n",
       "    </tr>\n",
       "    <tr>\n",
       "      <th>2</th>\n",
       "      <td>0.000130</td>\n",
       "      <td>0.000000</td>\n",
       "      <td>0.024035</td>\n",
       "      <td>0.0</td>\n",
       "      <td>0.036795</td>\n",
       "      <td>0.050510</td>\n",
       "      <td>0.036648</td>\n",
       "      <td>0.050890</td>\n",
       "      <td>0.006883</td>\n",
       "      <td>0.024362</td>\n",
       "      <td>0.042585</td>\n",
       "      <td>0.047436</td>\n",
       "      <td>0.012334</td>\n",
       "      <td>0.063393</td>\n",
       "    </tr>\n",
       "    <tr>\n",
       "      <th>3</th>\n",
       "      <td>0.000154</td>\n",
       "      <td>0.000000</td>\n",
       "      <td>0.007411</td>\n",
       "      <td>0.0</td>\n",
       "      <td>0.035932</td>\n",
       "      <td>0.049196</td>\n",
       "      <td>0.027471</td>\n",
       "      <td>0.062109</td>\n",
       "      <td>0.010325</td>\n",
       "      <td>0.022349</td>\n",
       "      <td>0.044738</td>\n",
       "      <td>0.047653</td>\n",
       "      <td>0.008998</td>\n",
       "      <td>0.061018</td>\n",
       "    </tr>\n",
       "    <tr>\n",
       "      <th>4</th>\n",
       "      <td>0.000329</td>\n",
       "      <td>0.000000</td>\n",
       "      <td>0.007411</td>\n",
       "      <td>0.0</td>\n",
       "      <td>0.035932</td>\n",
       "      <td>0.050243</td>\n",
       "      <td>0.032509</td>\n",
       "      <td>0.062109</td>\n",
       "      <td>0.010325</td>\n",
       "      <td>0.022349</td>\n",
       "      <td>0.044738</td>\n",
       "      <td>0.047927</td>\n",
       "      <td>0.016312</td>\n",
       "      <td>0.066133</td>\n",
       "    </tr>\n",
       "  </tbody>\n",
       "</table>\n",
       "</div>"
      ],
      "text/plain": [
       "       CRIM        ZN     INDUS  CHAS       NOX        RM       AGE       DIS  \\\n",
       "0  0.000030  0.030868  0.007853   0.0  0.042208  0.046222  0.039107  0.041904   \n",
       "1  0.000130  0.000000  0.024035   0.0  0.036795  0.045139  0.047324  0.050890   \n",
       "2  0.000130  0.000000  0.024035   0.0  0.036795  0.050510  0.036648  0.050890   \n",
       "3  0.000154  0.000000  0.007411   0.0  0.035932  0.049196  0.027471  0.062109   \n",
       "4  0.000329  0.000000  0.007411   0.0  0.035932  0.050243  0.032509  0.062109   \n",
       "\n",
       "        RAD       TAX   PTRATIO         B     LSTAT    target  \n",
       "0  0.003442  0.029798  0.036604  0.047927  0.015241  0.043845  \n",
       "1  0.006883  0.024362  0.042585  0.047927  0.027973  0.039461  \n",
       "2  0.006883  0.024362  0.042585  0.047436  0.012334  0.063393  \n",
       "3  0.010325  0.022349  0.044738  0.047653  0.008998  0.061018  \n",
       "4  0.010325  0.022349  0.044738  0.047927  0.016312  0.066133  "
      ]
     },
     "execution_count": 81,
     "metadata": {},
     "output_type": "execute_result"
    }
   ],
   "source": [
    "# data normalization\n",
    "d = preprocessing.normalize(df_boston ,axis=0)\n",
    "scaled_df = pd.DataFrame(d, columns=['CRIM','ZN','INDUS','CHAS','NOX','RM','AGE','DIS','RAD','TAX','PTRATIO', 'B','LSTAT','target'])\n",
    "scaled_df.head()"
   ]
  },
  {
   "cell_type": "code",
   "execution_count": 82,
   "metadata": {},
   "outputs": [],
   "source": [
    "X=np.array(scaled_df.iloc[:, 0:13])\n",
    "y=np.array(df_boston.iloc[:, 13:14]).ravel()\n",
    "X_train, X_valid, y_train, y_valid = train_test_split(X, y, test_size=0.2, random_state=42)"
   ]
  },
  {
   "cell_type": "code",
   "execution_count": 83,
   "metadata": {},
   "outputs": [
    {
     "name": "stdout",
     "output_type": "stream",
     "text": [
      "Itarations stopped at step 34\n",
      "None\n"
     ]
    },
    {
     "data": {
      "image/png": "[encoded data removed]",
      "text/plain": [
       "<Figure size 432x288 with 1 Axes>"
      ]
     },
     "metadata": {
      "needs_background": "light"
     },
     "output_type": "display_data"
    },
    {
     "data": {
      "image/png": "[encoded data removed]",
      "text/plain": [
       "<Figure size 432x288 with 1 Axes>"
      ]
     },
     "metadata": {
      "needs_background": "light"
     },
     "output_type": "display_data"
    }
   ],
   "source": [
    "eta_0=0.001\n",
    "rand_state=42\n",
    "epsilon=0.0001 # accuracy\n",
    "steps=1000\n",
    "sgd_regressor=SGDRegressor(learning_rate='constant', alpha=0.8, eta0=eta_0, fit_intercept=True, random_state=rand_state)\n",
    "w_current=np.random.random(len(X[0])) # initalize weights with random numbers\n",
    "# w_current=X[0]\n",
    "weight_evolution, mse_evolution, r2_evolution=[], [], [] # chasnge of weoght and error\n",
    "for step in range(steps):\n",
    "    sqd_regressor=sgd_regressor.partial_fit(X_train, y_train) # make one step\n",
    "    weight_evolution.append(distance.euclidean(w_current, sgd_regressor.coef_)) #the distance.euclidean function shows how much the weights have shifted from w_current to the current value of the weights, which is stored in the sgd_regressor class\n",
    "    if weight_evolution[-1]<epsilon:\n",
    "        print (print(\"Itarations stopped at step %d\" % step)); break\n",
    "    mse_evolution.append(mean_squared_error(y_valid, sgd_regressor.predict(X_valid)))\n",
    "    r2_evolution.append(r2_score(y_valid, sgd_regressor.predict(X_valid)))\n",
    "    w_current=sgd_regressor.coef_.copy()\n",
    "    \n",
    "plt.plot(range(step), mse_evolution)\n",
    "plt.title(\"mse\")\n",
    "plt.show()\n",
    "plt.plot(range(step), r2_evolution)\n",
    "plt.title(\"r2_score\")\n",
    "plt.show()"
   ]
  },
  {
   "cell_type": "code",
   "execution_count": 84,
   "metadata": {},
   "outputs": [],
   "source": [
    "import numpy as np\n",
    "import pandas as pd\n",
    "from sklearn import preprocessing\n",
    "from sklearn.datasets import load_boston\n",
    "from sklearn.model_selection import train_test_split\n",
    "from sklearn.linear_model import SGDRegressor\n",
    "from sklearn.metrics import mean_squared_error\n",
    "from sklearn.metrics import r2_score\n",
    "from scipy.spatial import distance\n",
    "import matplotlib.pyplot as plt"
   ]
  },
  {
   "cell_type": "code",
   "execution_count": 85,
   "metadata": {},
   "outputs": [],
   "source": [
    "boston_data = load_boston()\n",
    "df_boston = pd.DataFrame(boston_data.data,columns=boston_data.feature_names)\n",
    "df_boston['target'] = pd.Series(boston_data.target)\n",
    "d = preprocessing.normalize(df_boston ,axis=0)\n",
    "scaled_df = pd.DataFrame(d, columns=['CRIM','ZN','INDUS','CHAS','NOX','RM','AGE','DIS','RAD','TAX','PTRATIO', 'B','LSTAT','target'])\n",
    "X=np.array(scaled_df.iloc[:, 0:13])\n",
    "y=np.array(df_boston.iloc[:, 13:14]).ravel()\n",
    "X_train, X_valid, y_train, y_valid = train_test_split(X, y, test_size=0.2, random_state=42)"
   ]
  },
  {
   "cell_type": "code",
   "execution_count": 86,
   "metadata": {},
   "outputs": [],
   "source": [
    "def gradient (X, y, eta, w_current)->np.array:\n",
    "    \"\"\"gradient for linear regression\"\"\"\n",
    "    n=X.shape[0] # number of train examples\n",
    "    y_hat=X.dot(w_current.T) # predict linear regression results\n",
    "    error = y - y_hat # deviation\n",
    "    grad=np.multiply(X,error).sum(axis=0)*(-1.0)*2.0/n #gradient for linear regression\n",
    "    return grad, error"
   ]
  },
  {
   "cell_type": "code",
   "execution_count": 87,
   "metadata": {},
   "outputs": [],
   "source": [
    "def eval_w_next(X, y, eta, w_current):\n",
    "    \"\"\"Next step\"\"\"\n",
    "    grad, error=gradient(X,y,eta,w_current)\n",
    "    w_next=w_current-eta*grad # weights at next iteration\n",
    "    weight_evolution=distance.euclidean(w_current, w_next) # weights change\n",
    "    return (w_next, weight_evolution, grad)"
   ]
  },
  {
   "cell_type": "code",
   "execution_count": 88,
   "metadata": {},
   "outputs": [],
   "source": [
    "def gradient_descent(X:np.array, y:np.array, eta=0.01, epsilon=0.001)->np.array:\n",
    "    \n",
    "    m=X.shape[1] # features number (gradient dimension)\n",
    "    w=np.random.random(m).reshape(1,-1) # initialize weights with random numbers\n",
    "    w_next, weight_evolution, grad=eval_w_next(X, y, eta, w)\n",
    "    step=0\n",
    "    while weight_evolution>epsilon:\n",
    "        w=w_next\n",
    "        w_next, weight_evolution, grad=eval_w_next(X, y, eta, w)\n",
    "        step+=1\n",
    "#         if step % 100 ==0:\n",
    "#             print(\"step %s |w-w_next|=%.5f, grad=%s, weight_evolution=%.3f\" % (step, weight_evolution, grad, weight_evolution)) \n",
    "    print(f\"Stopped at {step} iteration, weight_evolution={weight_evolution}, grad={grad}\")\n",
    "    return w"
   ]
  },
  {
   "cell_type": "code",
   "execution_count": 89,
   "metadata": {},
   "outputs": [
    {
     "name": "stdout",
     "output_type": "stream",
     "text": [
      "Stopped at 104746 iteration, weight_evolution=0.000999999575182352, grad=[-0.00336963 -0.00909145  0.00359512  0.01130235  0.00303492  0.00263061\n",
      " -0.03293828 -0.00717183  0.04334174 -0.01577156  0.00562762  0.01806495\n",
      " -0.01198842  0.07735525]\n"
     ]
    }
   ],
   "source": [
    "eta_0=0.002\n",
    "epsilon=0.0001\n",
    "# add a trivial feature w_0, a column of ones\n",
    "X_train=np.hstack([np.ones(X_train.shape[0]).reshape(-1,1), X_train]) \n",
    "X_valid=np.hstack([np.ones(X_valid.shape[0]).reshape(-1,1), X_valid])\n",
    "w=gradient_descent(X_train, y_train.reshape(-1,1), eta=eta_, epsilon=epsilon_)\n"
   ]
  },
  {
   "cell_type": "code",
   "execution_count": null,
   "metadata": {},
   "outputs": [],
   "source": []
  }
 ],
 "metadata": {
  "celltoolbar": "Slideshow",
  "colab": {
   "collapsed_sections": [],
   "name": "jun_ml_linear_regression_II-hw_8.ipynb",
   "provenance": []
  },
  "kernelspec": {
   "display_name": "Python 3",
   "language": "python",
   "name": "python3"
  },
  "language_info": {
   "codemirror_mode": {
    "name": "ipython",
    "version": 3
   },
   "file_extension": ".py",
   "mimetype": "text/x-python",
   "name": "python",
   "nbconvert_exporter": "python",
   "pygments_lexer": "ipython3",
   "version": "3.9.5"
  }
 },
 "nbformat": 4,
 "nbformat_minor": 1
}
