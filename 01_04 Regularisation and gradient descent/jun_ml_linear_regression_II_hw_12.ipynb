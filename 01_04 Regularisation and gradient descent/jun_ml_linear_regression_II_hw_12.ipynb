{
 "cells": [
  {
   "cell_type": "markdown",
   "metadata": {
    "id": "NTvgYjVhnE6h"
   },
   "source": [
    "### Урок 12. Домашняя работа\n",
    "\n",
    "**Задача высокого уровня** В реализацию функции `gradient` добавьте параметр $\\lambda$, чтобы получить регуляризованный градиентный спуск\n",
    "\n",
    "Формула поменяется следующим образом:\n",
    "$$\n",
    "\\left\\{\n",
    "\\begin{array}{cc}\n",
    "\\frac{\\partial L}{\\partial w_0} = \\frac{2}{n}\\cdot(-1)\\cdot \\sum_{i=1}^{n} (1\\cdot \\left(y_i - \\sum_{j=1}^{m}w_jx_j^i\\right) + \\lambda\\cdot 2\\cdot w_0)&\\\\\n",
    "\\frac{\\partial L}{\\partial w_k} = \\frac{2}{n}\\cdot(-1)\\cdot \\sum_{i=1}^{n} (x_k^i \\cdot\\left(y_i - \\sum_{j=1}^{m}w_jx_j^i\\right) + \\lambda\\cdot 2\\cdot w_k)& k\\neq 0 \\\\\n",
    "\\end{array}\n",
    "\\right.\n",
    "$$"
   ]
  },
  {
   "cell_type": "code",
   "execution_count": 81,
   "metadata": {},
   "outputs": [],
   "source": [
    "import numpy as np\n",
    "import pandas as pd\n",
    "from scipy.spatial import distance\n",
    "import matplotlib.pyplot as plt"
   ]
  },
  {
   "cell_type": "code",
   "execution_count": 82,
   "metadata": {},
   "outputs": [
    {
     "data": {
      "text/html": [
       "<div>\n",
       "<style scoped>\n",
       "    .dataframe tbody tr th:only-of-type {\n",
       "        vertical-align: middle;\n",
       "    }\n",
       "\n",
       "    .dataframe tbody tr th {\n",
       "        vertical-align: top;\n",
       "    }\n",
       "\n",
       "    .dataframe thead th {\n",
       "        text-align: right;\n",
       "    }\n",
       "</style>\n",
       "<table border=\"1\" class=\"dataframe\">\n",
       "  <thead>\n",
       "    <tr style=\"text-align: right;\">\n",
       "      <th></th>\n",
       "      <th>x_train</th>\n",
       "      <th>y_train</th>\n",
       "    </tr>\n",
       "  </thead>\n",
       "  <tbody>\n",
       "    <tr>\n",
       "      <th>5</th>\n",
       "      <td>1.182421</td>\n",
       "      <td>1.860341</td>\n",
       "    </tr>\n",
       "    <tr>\n",
       "      <th>6</th>\n",
       "      <td>1.251605</td>\n",
       "      <td>1.878928</td>\n",
       "    </tr>\n",
       "    <tr>\n",
       "      <th>7</th>\n",
       "      <td>1.270474</td>\n",
       "      <td>2.430015</td>\n",
       "    </tr>\n",
       "    <tr>\n",
       "      <th>8</th>\n",
       "      <td>1.402553</td>\n",
       "      <td>2.327856</td>\n",
       "    </tr>\n",
       "    <tr>\n",
       "      <th>9</th>\n",
       "      <td>1.427711</td>\n",
       "      <td>2.203649</td>\n",
       "    </tr>\n",
       "  </tbody>\n",
       "</table>\n",
       "</div>"
      ],
      "text/plain": [
       "    x_train   y_train\n",
       "5  1.182421  1.860341\n",
       "6  1.251605  1.878928\n",
       "7  1.270474  2.430015\n",
       "8  1.402553  2.327856\n",
       "9  1.427711  2.203649"
      ]
     },
     "execution_count": 82,
     "metadata": {},
     "output_type": "execute_result"
    }
   ],
   "source": [
    "data = pd.read_csv('non_linear.csv', sep=',')\n",
    "data = data[(data.x_train > 1) & (data.x_train < 5)].copy()\n",
    "data.head()"
   ]
  },
  {
   "cell_type": "code",
   "execution_count": 83,
   "metadata": {
    "id": "zxpLYBR9PuBe"
   },
   "outputs": [],
   "source": [
    "\n",
    "\n",
    "def gradient (X, y, eta, w_current:np.array, lambda_)->np.array:\n",
    "    \"\"\"gradient for linear regression\"\"\"\n",
    "    n=X.shape[0] # number of train examples\n",
    "    y_hat=X.dot(w_current.T) # predict linear regression results\n",
    "    error = y - y_hat # deviation\n",
    "    grad=(np.multiply(X,error).sum(axis=0)*(-1.0)+2*lambda_*w_current)*2.0/n #gradient for linear regression\n",
    "    return grad, error"
   ]
  },
  {
   "cell_type": "code",
   "execution_count": 84,
   "metadata": {},
   "outputs": [],
   "source": [
    "def eval_w_next(X, y, eta, w_current, lambda_):\n",
    "    \"\"\"Next step\"\"\"\n",
    "    grad, error=gradient(X,y,eta, w_current, lambda_)\n",
    "    w_next=w_current-eta*grad # weights at next iteration\n",
    "    weight_evolution=distance.euclidean(w_current, w_next) # weights change\n",
    "    return (w_next, weight_evolution, grad)"
   ]
  },
  {
   "cell_type": "code",
   "execution_count": 85,
   "metadata": {},
   "outputs": [],
   "source": [
    "def gradient_descent(X:np.array, y:np.array, eta=0.01, epsilon=0.001, lambda_=0.1)->np.array:\n",
    "    m=X.shape[1] # features number (gradient dimension)\n",
    "    w=np.random.random(m).reshape(1,-1) # initialize weights with random numbers\n",
    "    w_next, weight_evolution, grad=eval_w_next(X, y, eta, w, lambda_)\n",
    "    step=0\n",
    "    while weight_evolution>epsilon:\n",
    "        w=w_next\n",
    "        w_next, weight_evolution, grad=eval_w_next(X, y, eta, w, lambda_)\n",
    "        step+=1\n",
    "        if step % 100 ==0:\n",
    "            print(\"step %s |w-w_next|=%.5f, grad=%s\" % (step, weight_evolution, grad))\n",
    "    return w"
   ]
  },
  {
   "cell_type": "code",
   "execution_count": 86,
   "metadata": {},
   "outputs": [
    {
     "name": "stdout",
     "output_type": "stream",
     "text": [
      "step 100 |w-w_next|=0.00494, grad=[[-0.59278664  0.17124428]]\n",
      "step 200 |w-w_next|=0.00402, grad=[[-0.48324063  0.13959861]]\n",
      "step 300 |w-w_next|=0.00328, grad=[[-0.39393855  0.11380101]]\n",
      "step 400 |w-w_next|=0.00267, grad=[[-0.32113935  0.09277077]]\n",
      "step 500 |w-w_next|=0.00218, grad=[[-0.26179332  0.07562688]]\n",
      "step 600 |w-w_next|=0.00178, grad=[[-0.21341434  0.06165116]]\n",
      "step 700 |w-w_next|=0.00145, grad=[[-0.17397571  0.05025812]]\n",
      "step 800 |w-w_next|=0.00118, grad=[[-0.14182528  0.0409705 ]]\n"
     ]
    }
   ],
   "source": [
    "X = data['x_train'].values.reshape(-1, 1)\n",
    "n = X.shape[0]\n",
    "# add trivial feature w_0, column of ones\n",
    "X = np.hstack([np.ones(n).reshape(-1,1), X])\n",
    "w = gradient_descent(X, data['y_train'].values.reshape(-1, 1), eta=0.008, lambda_=0.1)"
   ]
  },
  {
   "cell_type": "code",
   "execution_count": 87,
   "metadata": {},
   "outputs": [],
   "source": [
    "support = np.linspace(X.min(), X.max(), num=100)\n",
    "y_hat = np.hstack([\n",
    "    np.ones(support.size).reshape(-1, 1),\n",
    "    support.reshape(-1, 1)\n",
    "]).dot(w.T)"
   ]
  },
  {
   "cell_type": "code",
   "execution_count": 88,
   "metadata": {},
   "outputs": [
    {
     "data": {
      "image/png": "[encoded data removed]",
      "text/plain": [
       "<Figure size 432x288 with 1 Axes>"
      ]
     },
     "metadata": {
      "needs_background": "light"
     },
     "output_type": "display_data"
    }
   ],
   "source": [
    "plt.plot(support, y_hat, 'b--', alpha=0.5, label='manifold')\n",
    "plt.scatter(data['x_train'], data['y_train'], 40, 'g', 'o', alpha=0.8, label='data')\n",
    "plt.show()"
   ]
  },
  {
   "cell_type": "code",
   "execution_count": null,
   "metadata": {},
   "outputs": [],
   "source": []
  }
 ],
 "metadata": {
  "celltoolbar": "Slideshow",
  "colab": {
   "collapsed_sections": [],
   "name": "jun_ml_linear_regression_II-hw_12.ipynb",
   "provenance": []
  },
  "kernelspec": {
   "display_name": "Python 3",
   "language": "python",
   "name": "python3"
  },
  "language_info": {
   "codemirror_mode": {
    "name": "ipython",
    "version": 3
   },
   "file_extension": ".py",
   "mimetype": "text/x-python",
   "name": "python",
   "nbconvert_exporter": "python",
   "pygments_lexer": "ipython3",
   "version": "3.9.5"
  }
 },
 "nbformat": 4,
 "nbformat_minor": 1
}
