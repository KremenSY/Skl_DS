{
 "cells": [
  {
   "cell_type": "markdown",
   "metadata": {
    "id": "idnfa1hXYUOh"
   },
   "source": [
    "### Урок 3. Домашняя работа\n",
    "\n",
    "**Задание простого уровня** Загрузите данные из файла `non_linear.csv` и сгенерируйте данные до степени *degree = 8* включительно. Обучите модель `sklearn.linear_model.Lasso` и модель `sklearn.linear_model.Ridge` на полученных данных, используйте коэффициент регуляризации $\\alpha=0.8$ для обеих моделей. Постройте два столбчатых графика, на которых отобразите величину коэффициентов для Ridge регрессии и Lasso регрессии в виде столбиков.\n",
    "\n",
    "Пример графиков для 3-й степени (просто для примера, у вас может по-другому выглядеть). Какой можно сделать в вывод по величине коэффициентов?:\n",
    "![coeff_example](https://pp.userapi.com/c850136/v850136613/19282c/OfwruuxOkPw.jpg)"
   ]
  },
  {
   "cell_type": "code",
   "execution_count": 10,
   "metadata": {
    "id": "bYGmSdz4YUOh"
   },
   "outputs": [
    {
     "data": {
      "text/html": [
       "<div>\n",
       "<style scoped>\n",
       "    .dataframe tbody tr th:only-of-type {\n",
       "        vertical-align: middle;\n",
       "    }\n",
       "\n",
       "    .dataframe tbody tr th {\n",
       "        vertical-align: top;\n",
       "    }\n",
       "\n",
       "    .dataframe thead th {\n",
       "        text-align: right;\n",
       "    }\n",
       "</style>\n",
       "<table border=\"1\" class=\"dataframe\">\n",
       "  <thead>\n",
       "    <tr style=\"text-align: right;\">\n",
       "      <th></th>\n",
       "      <th>x_train</th>\n",
       "      <th>y_train</th>\n",
       "    </tr>\n",
       "  </thead>\n",
       "  <tbody>\n",
       "    <tr>\n",
       "      <th>0</th>\n",
       "      <td>0.138368</td>\n",
       "      <td>0.838812</td>\n",
       "    </tr>\n",
       "    <tr>\n",
       "      <th>1</th>\n",
       "      <td>0.157237</td>\n",
       "      <td>0.889313</td>\n",
       "    </tr>\n",
       "    <tr>\n",
       "      <th>2</th>\n",
       "      <td>0.188684</td>\n",
       "      <td>1.430040</td>\n",
       "    </tr>\n",
       "    <tr>\n",
       "      <th>3</th>\n",
       "      <td>0.685553</td>\n",
       "      <td>1.717309</td>\n",
       "    </tr>\n",
       "    <tr>\n",
       "      <th>4</th>\n",
       "      <td>0.874237</td>\n",
       "      <td>2.032588</td>\n",
       "    </tr>\n",
       "  </tbody>\n",
       "</table>\n",
       "</div>"
      ],
      "text/plain": [
       "    x_train   y_train\n",
       "0  0.138368  0.838812\n",
       "1  0.157237  0.889313\n",
       "2  0.188684  1.430040\n",
       "3  0.685553  1.717309\n",
       "4  0.874237  2.032588"
      ]
     },
     "execution_count": 10,
     "metadata": {},
     "output_type": "execute_result"
    }
   ],
   "source": [
    "import numpy as np\n",
    "import pandas as pd\n",
    "data=pd.read_csv(\"non_linear.csv\", sep=',')\n",
    "data.head()"
   ]
  },
  {
   "cell_type": "code",
   "execution_count": 11,
   "metadata": {},
   "outputs": [],
   "source": [
    "from sklearn.model_selection import train_test_split\n",
    "from sklearn.linear_model import Ridge, Lasso\n",
    "from sklearn.metrics import mean_squared_error\n",
    "\n",
    "def generate_degrees(source_data: list, degree: int):\n",
    "    return np.array([source_data**n for n in range(1, degree+1)]).T"
   ]
  },
  {
   "cell_type": "code",
   "execution_count": 12,
   "metadata": {},
   "outputs": [
    {
     "name": "stdout",
     "output_type": "stream",
     "text": [
      "Best degree is 7\n"
     ]
    },
    {
     "data": {
      "image/png": "[encoded data removed]",
      "text/plain": [
       "<Figure size 432x288 with 1 Axes>"
      ]
     },
     "metadata": {
      "needs_background": "light"
     },
     "output_type": "display_data"
    }
   ],
   "source": [
    "diff_best_fit=1000000\n",
    "degree_best_fit=1000000\n",
    "for degree in range (1,10):\n",
    "    X=generate_degrees(data.x_train, degree)\n",
    "    y=data.y_train.values\n",
    "    x_train, X_test, y_train, y_test=train_test_split(X, y, test_size=0.2, random_state=10)\n",
    "    model=Ridge(alpha=0.8).fit(x_train, y_train)\n",
    "    y_pred=model.predict(X_test)\n",
    "    y_pred_train=model.predict(x_train)\n",
    "#     print (\"Quality on validation: %.3f\" % mean_squared_error(y_test, y_pred))\n",
    "#     print (\"Quality on learning: %.3f\" % mean_squared_error(y_train, y_pred_train))\n",
    "#     print (f\"Degree is {degree}, Diffference:\\\n",
    "#     {abs(mean_squared_error(y_train, y_pred_train)-mean_squared_error(y_test, y_pred))}\")\n",
    "    diff=abs(mean_squared_error(y_train, y_pred_train)-mean_squared_error(y_test, y_pred))\n",
    "    if diff< diff_best_fit:\n",
    "        degree_best_fit=degree\n",
    "        diff_best_fit=diff\n",
    "        coef_=model.coef_ \n",
    "print(\"Best degree is\", degree_best_fit)\n",
    "import matplotlib.pyplot as plt\n",
    "fig, ax = plt.subplots()\n",
    "x = np.arange(1, degree_best_fit+1)\n",
    "ax.bar(x, coef_)\n",
    "plt.show()"
   ]
  },
  {
   "cell_type": "code",
   "execution_count": 32,
   "metadata": {},
   "outputs": [
    {
     "name": "stdout",
     "output_type": "stream",
     "text": [
      "Best degree is 6\n"
     ]
    },
    {
     "data": {
      "image/png": "[encoded data removed]",
      "text/plain": [
       "<Figure size 432x288 with 1 Axes>"
      ]
     },
     "metadata": {
      "needs_background": "light"
     },
     "output_type": "display_data"
    }
   ],
   "source": [
    "diff_best_fit=1000000\n",
    "degree_best_fit=1000000\n",
    "for degree in range (1,10):\n",
    "    X=generate_degrees(data.x_train, degree)\n",
    "    y=data.y_train.values\n",
    "    x_train, X_test, y_train, y_test=train_test_split(X, y, test_size=0.2, random_state=42)\n",
    "    model=Lasso(alpha=0.8, tol=1).fit(x_train, y_train)\n",
    "    y_pred=model.predict(X_test)\n",
    "    y_pred_train=model.predict(x_train)\n",
    "    diff=abs(mean_squared_error(y_train, y_pred_train)-mean_squared_error(y_test, y_pred))\n",
    "    if diff< diff_best_fit:\n",
    "        degree_best_fit=degree\n",
    "        diff_best_fit=diff\n",
    "        coef_=model.coef_ \n",
    "print(\"Best degree is\", degree_best_fit)\n",
    "import matplotlib.pyplot as plt\n",
    "fig, ax = plt.subplots()\n",
    "x = np.arange(1, degree_best_fit+1)\n",
    "ax.bar(x, coef_)\n",
    "plt.show()\n"
   ]
  },
  {
   "cell_type": "code",
   "execution_count": 14,
   "metadata": {},
   "outputs": [],
   "source": [
    "from sklearn.linear_model import LinearRegression\n",
    "from numpy.linalg import norm\n",
    "from sklearn.metrics import mean_squared_error\n",
    "from sklearn.model_selection import train_test_split\n",
    "\n",
    "def generate_degrees(source_data: list, degree: int):\n",
    "    return np.array([source_data**n for n in range(1, degree + 1)]).T\n",
    "\n",
    "def train_polynomial(degree, data):\n",
    "    X = generate_degrees(data['x_train'], degree)\n",
    "    y = data.y_train.values\n",
    "    X_train, X_valid, y_train, y_valid = train_test_split(X, y, test_size=0.2, random_state=10)\n",
    "    model = LinearRegression().fit(X_train, y_train)\n",
    "    y_pred = model.predict(X_valid)\n",
    "    y_pred_train = model.predict(X_train)\n",
    "    error_valid = mean_squared_error(y_valid, y_pred)\n",
    "    error_train = mean_squared_error(y_train, y_pred_train)\n",
    "    coeffs=model.coef_\n",
    "#     print(\n",
    "#         \"Degree %d\\nValidation error %.3f\\nTrain error %.3f\" %\n",
    "#         (degree, error_valid, error_train)\n",
    "#     )\n",
    "#     order_test = np.argsort(X_valid[:,0]) #сортирует данные которые перемешаны после разделения и возвращает индексы   \n",
    "#     plt.scatter(X_valid[:,0][order_test], y_valid[order_test], 40, 'r', 'o', alpha=0.8)\n",
    "#     print(\"Weight vector norm \\t||w|| = %.2f\" % (norm(model.coef_)))\n",
    "#     # визуализируем решение\n",
    "#     x_linspace = np.linspace(data['x_train'].min(), data['x_train'].max(), num=100)\n",
    "#     y_linspace = model.predict(generate_degrees(x_linspace, degree))\n",
    "#     plt.plot(x_linspace, y_linspace)\n",
    "    return error_valid, error_train, norm(model.coef_), coeffs"
   ]
  },
  {
   "cell_type": "code",
   "execution_count": 15,
   "metadata": {},
   "outputs": [
    {
     "data": {
      "image/png": "[encoded data removed]",
      "text/plain": [
       "<Figure size 432x288 with 1 Axes>"
      ]
     },
     "metadata": {
      "needs_background": "light"
     },
     "output_type": "display_data"
    },
    {
     "name": "stdout",
     "output_type": "stream",
     "text": [
      "Best degree is 6\n"
     ]
    },
    {
     "data": {
      "image/png": "[encoded data removed]",
      "text/plain": [
       "<Figure size 432x288 with 1 Axes>"
      ]
     },
     "metadata": {
      "needs_background": "light"
     },
     "output_type": "display_data"
    }
   ],
   "source": [
    "degrees = []\n",
    "valid_errors = []\n",
    "train_errors = []\n",
    "w_norm = [] \n",
    "coeffs=[]\n",
    "i_max=10\n",
    "\n",
    "for i in range(1,i_max+1):\n",
    "    error_valid, error_train, coef_norm, coeff = train_polynomial(i, data)\n",
    "    degrees.append(degree)\n",
    "    valid_errors.append(error_valid)\n",
    "    train_errors.append(error_train)\n",
    "    w_norm.append(coef_norm)\n",
    "    coeffs.append(coeff)\n",
    "val, ind_min = min((abs(valid_errors[i]-train_errors[i]), i) for i in range(i_max))\n",
    "# print (ind_min)\n",
    "error_diff=[valid_errors[i]-train_errors[i] for i in range (i_max)]\n",
    "\n",
    "fig, ax = plt.subplots()\n",
    "degrees=np.linspace(1, i_max+1, num=10)\n",
    "ax.plot(degrees, valid_errors, 'k--', label='Validation error')\n",
    "ax.plot(degrees, train_errors, 'k:', label='Train error')\n",
    "\n",
    "legend = ax.legend(loc='upper center', shadow=True, fontsize='x-large')\n",
    "\n",
    "plt.show()\n",
    "\n",
    "ind=0\n",
    "for i in range (i_max-1):\n",
    "    if error_diff[i]<0 and error_diff[i+1]>0:\n",
    "        ind=i\n",
    "#         print(error_diff[ind])\n",
    "if error_diff[ind]*(-1)>error_diff[ind+1]:\n",
    "    ind+=1\n",
    "d=ind+1\n",
    "# print(valid_errors)\n",
    "# print(train_errors)\n",
    "# print(error_diff)\n",
    "print(\"Best degree is %d\" % d)\n",
    "# print(w_norm[ind])\n",
    "import matplotlib.pyplot as plt\n",
    "fig, ax = plt.subplots()\n",
    "x = np.arange(1, d+1)\n",
    "# print(coeffs[ind])\n",
    "ax.bar(x, coeffs[ind])\n",
    "plt.show()"
   ]
  },
  {
   "cell_type": "markdown",
   "metadata": {},
   "source": [
    "**Задание среднего уровня** Мы использовали реализацию Ridge регрессии из библиотеки sklearn. Для того, чтобы  прокачать навыки программирования и освежить в памяти, как перемножать матрицы в numpy, напишите код для вычисления коэффициентов полиномиальной регрессии (для степени *degree=6*) с регуляризацией по формуле\n",
    "$$\n",
    "\\overline{w} = \\left(X^TX + \\lambda E\\right)^{-1}X^T\\overline{y}\n",
    "$$\n",
    "\n",
    "Для примера можно ориентироваться на то, как была реализована аналитическая формула для линейной регрессии в модуле \"Линейная регрессия. Часть I\"\n",
    "\n",
    "Единичную матрицу $E$ можно получить с помощью функции https://docs.scipy.org/doc/numpy/reference/generated/numpy.eye.html . Размерность матрицы $k\\times k$ (по количеству коэффициентов линейной регрессии). Напоминаю, что количество коэффициентов регрессии совпадает с количеством фичей регрессии, в задании будет $k=8$, т.к. генерим признаки для полинома восьмой степени.\n",
    "\n",
    "\n",
    "\n",
    "\n",
    "\n",
    "\n",
    "\n",
    "\n",
    "\n",
    "\n",
    "\n",
    "\n",
    "\n",
    "\n",
    "\n",
    "\n",
    "\n",
    "\n",
    "\n",
    "\n",
    "\n",
    "\n",
    "\n",
    "\n",
    "\n"
   ]
  },
  {
   "cell_type": "code",
   "execution_count": 16,
   "metadata": {},
   "outputs": [
    {
     "name": "stdout",
     "output_type": "stream",
     "text": [
      "[0.1  0.38 0.3  0.18 0.97 0.8  1.83 0.15 1.98 1.97]\n",
      "Degree 8\n",
      "Alpha 0.800\n",
      "Validation error 0.078\n",
      "Train error 0.056\n",
      "Weight vector norm 34.189 \n",
      "[ 9.66146492e+00 -2.04146180e+01  2.18958138e+01 -1.27144165e+01\n",
      "  4.13819718e+00 -7.57028483e-01  7.27937444e-02 -2.86371930e-03]\n"
     ]
    },
    {
     "data": {
      "image/png": "[encoded data removed]",
      "text/plain": [
       "<Figure size 432x288 with 1 Axes>"
      ]
     },
     "metadata": {
      "needs_background": "light"
     },
     "output_type": "display_data"
    }
   ],
   "source": [
    "import numpy as np\n",
    "from numpy.linalg import inv\n",
    "import matplotlib.pyplot as plt\n",
    "import pandas as pd\n",
    "from sklearn.model_selection import train_test_split\n",
    "from sklearn.metrics import mean_squared_error\n",
    "from numpy.linalg import norm\n",
    "\n",
    "data=pd.read_csv(\"non_linear.csv\", sep=',')\n",
    "X=np.array(data.x_train)\n",
    "y=np.array(data.y_train)\n",
    "degree=8\n",
    "alpha=0.8\n",
    "\n",
    "def fit(X_train, y_train, alpha=0.8):\n",
    "    X=np.insert(X_train, 0, 1, axis=1)\n",
    "    X_T_X=(X_train.T).dot(X_train)\n",
    "    X_T_X_Regul=X_T_X+alpha*(np.eye(len(X_T_X)))\n",
    "    X_T_X_Inverted=inv(X_T_X)\n",
    "    w=X_T_X_Inverted.dot(X_train.T).dot(y_train)\n",
    "    return w\n",
    "\n",
    "def predict (X_train, X_test, w):\n",
    "        X=np.insert(X_train, 0, 1, axis=1)\n",
    "        y_predict=X_test*w.T\n",
    "        l=list()\n",
    "        for i in range(0, len(y_predict)):\n",
    "            l.append(round(y_predict[i].sum(),2))\n",
    "        y_predict=np.array(l)\n",
    "        return (y_predict)\n",
    "    \n",
    "def generate_degrees(source_data: list, degree: int):\n",
    "    return np.array([source_data**n for n in range(1, degree + 1)]).T\n",
    "\n",
    "def train_polynomial(degree, X, y, alpha=0.8):\n",
    "    _X = generate_degrees(X, degree)\n",
    "    _y = y\n",
    "    X_train, X_valid, y_train, y_valid = train_test_split(_X, _y, test_size=0.2, random_state=10)\n",
    "    w = fit(X_train, y_train, alpha)\n",
    "    y_pred = predict(X_train, X_valid, w)\n",
    "    print(y_pred)\n",
    "    y_pred_train = predict(X_train, X_train, w)\n",
    "    error_valid = mean_squared_error(y_valid, y_pred)\n",
    "    error_train = mean_squared_error(y_train, y_pred_train)\n",
    "    coeffs=w\n",
    "    print(\n",
    "        \"Degree %d\\nAlpha %.3f\\nValidation error %.3f\\nTrain error %.3f\\nWeight vector norm %.3f \" %\n",
    "        (degree, alpha, error_valid, error_train, norm(w))\n",
    "    )\n",
    "    return error_valid, error_train, norm, coeffs\n",
    "\n",
    "error_valid, error_train, norm, coeffs=train_polynomial(degree, X, y, alpha)\n",
    "\n",
    "print(coeffs)\n",
    "\n",
    "\n",
    "fig, ax = plt.subplots()\n",
    "x = np.arange(1, len(coeffs)+1)\n",
    "# print(x)\n",
    "# print(coeff)\n",
    "ax.bar(x, coeffs)\n",
    "plt.show()"
   ]
  },
  {
   "cell_type": "code",
   "execution_count": 17,
   "metadata": {},
   "outputs": [
    {
     "name": "stdout",
     "output_type": "stream",
     "text": [
      "[0.63 0.45 0.74 0.72 0.81 0.4  0.09 0.56 0.17 0.17]\n",
      "Degree 1\n",
      "Alpha 0.800\n",
      "Validation error 1.332\n",
      "Train error 1.073\n",
      "Weight vector norm 0.136 \n",
      "[ 0.59  1.07  0.04  0.15 -0.4   1.12  0.49  0.85  0.8   0.79]\n",
      "Degree 2\n",
      "Alpha 0.800\n",
      "Validation error 0.847\n",
      "Train error 0.704\n",
      "Weight vector norm 0.829 \n",
      "[-0.14  0.7   0.3   0.15  1.17  1.1   1.44  0.04  1.92  1.92]\n",
      "Degree 3\n",
      "Alpha 0.800\n",
      "Validation error 0.062\n",
      "Train error 0.118\n",
      "Weight vector norm 3.159 \n",
      "[0.03 0.5  0.42 0.32 0.84 0.88 1.77 0.05 2.15 2.15]\n",
      "Degree 4\n",
      "Alpha 0.800\n",
      "Validation error 0.070\n",
      "Train error 0.087\n",
      "Weight vector norm 4.534 \n",
      "[0.04 0.53 0.32 0.23 0.95 0.84 1.96 0.12 2.21 2.21]\n",
      "Degree 5\n",
      "Alpha 0.800\n",
      "Validation error 0.068\n",
      "Train error 0.082\n",
      "Weight vector norm 6.026 \n",
      "[-0.    0.57  0.37  0.26  0.92  0.89  2.05  0.1   2.19  2.2 ]\n",
      "Degree 6\n",
      "Alpha 0.800\n",
      "Validation error 0.070\n",
      "Train error 0.079\n",
      "Weight vector norm 7.631 \n",
      "[0.15 0.46 0.24 0.22 0.95 0.91 2.05 0.06 2.07 2.08]\n",
      "Degree 7\n",
      "Alpha 0.800\n",
      "Validation error 0.080\n",
      "Train error 0.066\n",
      "Weight vector norm 16.427 \n",
      "[0.1  0.38 0.3  0.18 0.97 0.8  1.83 0.15 1.98 1.97]\n",
      "Degree 8\n",
      "Alpha 0.800\n",
      "Validation error 0.078\n",
      "Train error 0.056\n",
      "Weight vector norm 34.189 \n",
      "[0.14 0.32 0.31 0.14 0.99 0.81 1.99 0.18 1.98 1.98]\n",
      "Degree 9\n",
      "Alpha 0.800\n",
      "Validation error 0.089\n",
      "Train error 0.054\n",
      "Weight vector norm 18.654 \n",
      "[0.1  0.3  0.32 0.17 0.96 0.77 2.11 0.19 1.95 1.95]\n",
      "Degree 10\n",
      "Alpha 0.800\n",
      "Validation error 0.101\n",
      "Train error 0.054\n",
      "Weight vector norm 27.776 \n"
     ]
    },
    {
     "data": {
      "image/png": "[encoded data removed]",
      "text/plain": [
       "<Figure size 432x288 with 1 Axes>"
      ]
     },
     "metadata": {
      "needs_background": "light"
     },
     "output_type": "display_data"
    },
    {
     "name": "stdout",
     "output_type": "stream",
     "text": [
      "Best degree is 6\n"
     ]
    },
    {
     "data": {
      "image/png": "[encoded data removed]",
      "text/plain": [
       "<Figure size 432x288 with 1 Axes>"
      ]
     },
     "metadata": {
      "needs_background": "light"
     },
     "output_type": "display_data"
    }
   ],
   "source": [
    "degrees = []\n",
    "valid_errors = []\n",
    "train_errors = []\n",
    "norm_=[]\n",
    "coeffs=[]\n",
    "i_max=10\n",
    "\n",
    "for i in range(1,i_max+1):\n",
    "    error_valid, error_train, norm, coeff = train_polynomial(i, X,y, alpha)\n",
    "    degrees.append(degree)\n",
    "    valid_errors.append(error_valid)\n",
    "    train_errors.append(error_train)\n",
    "    norm_.append(norm)\n",
    "    coeffs.append(coeff)\n",
    "val, ind_min = min((abs(valid_errors[i]-train_errors[i]), i) for i in range(i_max))\n",
    "error_diff=[valid_errors[i]-train_errors[i] for i in range (i_max)]\n",
    "\n",
    "fig, ax = plt.subplots()\n",
    "degrees=np.linspace(1, i_max+1, num=10)\n",
    "ax.plot(degrees, valid_errors, 'k--', label='Validation error')\n",
    "ax.plot(degrees, train_errors, 'k:', label='Train error')\n",
    "\n",
    "legend = ax.legend(loc='upper center', shadow=True, fontsize='x-large')\n",
    "\n",
    "plt.show()\n",
    "\n",
    "ind=0\n",
    "\n",
    "for i in range (i_max-1):\n",
    "    if error_diff[i]<0 and error_diff[i+1]>0:\n",
    "        ind=i\n",
    "if error_diff[ind]*(-1)>error_diff[ind+1]:\n",
    "    ind+=1\n",
    "d=ind+1\n",
    "print(\"Best degree is %d\" % d)\n",
    "\n",
    "import matplotlib.pyplot as plt\n",
    "fig, ax = plt.subplots()\n",
    "x = np.arange(1, d+1)\n",
    "ax.bar(x, coeffs[ind])\n",
    "plt.show()"
   ]
  },
  {
   "cell_type": "code",
   "execution_count": null,
   "metadata": {},
   "outputs": [],
   "source": []
  }
 ],
 "metadata": {
  "celltoolbar": "Slideshow",
  "colab": {
   "collapsed_sections": [],
   "name": "jun_ml_linear_regression_II_hw_3.ipynb",
   "provenance": []
  },
  "kernelspec": {
   "display_name": "Python 3",
   "language": "python",
   "name": "python3"
  },
  "language_info": {
   "codemirror_mode": {
    "name": "ipython",
    "version": 3
   },
   "file_extension": ".py",
   "mimetype": "text/x-python",
   "name": "python",
   "nbconvert_exporter": "python",
   "pygments_lexer": "ipython3",
   "version": "3.9.5"
  }
 },
 "nbformat": 4,
 "nbformat_minor": 1
}
