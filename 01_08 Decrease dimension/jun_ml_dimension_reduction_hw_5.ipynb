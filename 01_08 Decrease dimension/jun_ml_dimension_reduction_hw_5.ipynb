{
 "cells": [
  {
   "cell_type": "markdown",
   "metadata": {
    "id": "q92frZ1hzNT3"
   },
   "source": [
    "## Урок 8. Домашнее задание \n",
    "### 8.1 Задание высокого уровня\n",
    "\n",
    "Давайте проверим, как t-sne может улучшить Ваши модели. Для начала загрузим данные и построим Baseline модель без преобразования входных данных"
   ]
  },
  {
   "cell_type": "code",
   "execution_count": 1,
   "metadata": {},
   "outputs": [],
   "source": [
    "import pandas as pd\n",
    "from sklearn.manifold import TSNE\n",
    "from matplotlib import pyplot as plt\n",
    "from sklearn.metrics import accuracy_score\n",
    "from sklearn.decomposition import PCA\n",
    "from sklearn.decomposition import TruncatedSVD\n",
    "from sklearn.tree import DecisionTreeClassifier\n",
    "from sklearn.model_selection import train_test_split\n",
    "from sklearn.metrics import accuracy_score, roc_auc_score"
   ]
  },
  {
   "cell_type": "code",
   "execution_count": 2,
   "metadata": {
    "id": "_gcQ-CQ3zNUQ"
   },
   "outputs": [
    {
     "data": {
      "text/html": [
       "<div>\n",
       "<style scoped>\n",
       "    .dataframe tbody tr th:only-of-type {\n",
       "        vertical-align: middle;\n",
       "    }\n",
       "\n",
       "    .dataframe tbody tr th {\n",
       "        vertical-align: top;\n",
       "    }\n",
       "\n",
       "    .dataframe thead th {\n",
       "        text-align: right;\n",
       "    }\n",
       "</style>\n",
       "<table border=\"1\" class=\"dataframe\">\n",
       "  <thead>\n",
       "    <tr style=\"text-align: right;\">\n",
       "      <th></th>\n",
       "      <th>call_diff</th>\n",
       "      <th>sms_diff</th>\n",
       "      <th>traffic_diff</th>\n",
       "      <th>customes_class</th>\n",
       "    </tr>\n",
       "  </thead>\n",
       "  <tbody>\n",
       "    <tr>\n",
       "      <th>0</th>\n",
       "      <td>-0.666421</td>\n",
       "      <td>0.444911</td>\n",
       "      <td>-0.273538</td>\n",
       "      <td>0.0</td>\n",
       "    </tr>\n",
       "    <tr>\n",
       "      <th>1</th>\n",
       "      <td>-0.889273</td>\n",
       "      <td>-0.537896</td>\n",
       "      <td>-1.959469</td>\n",
       "      <td>2.0</td>\n",
       "    </tr>\n",
       "    <tr>\n",
       "      <th>2</th>\n",
       "      <td>-0.841503</td>\n",
       "      <td>0.846665</td>\n",
       "      <td>0.727606</td>\n",
       "      <td>0.0</td>\n",
       "    </tr>\n",
       "    <tr>\n",
       "      <th>3</th>\n",
       "      <td>1.389749</td>\n",
       "      <td>0.390911</td>\n",
       "      <td>1.789246</td>\n",
       "      <td>1.0</td>\n",
       "    </tr>\n",
       "    <tr>\n",
       "      <th>4</th>\n",
       "      <td>-1.228211</td>\n",
       "      <td>-1.375899</td>\n",
       "      <td>-1.434209</td>\n",
       "      <td>2.0</td>\n",
       "    </tr>\n",
       "    <tr>\n",
       "      <th>...</th>\n",
       "      <td>...</td>\n",
       "      <td>...</td>\n",
       "      <td>...</td>\n",
       "      <td>...</td>\n",
       "    </tr>\n",
       "    <tr>\n",
       "      <th>95</th>\n",
       "      <td>1.506425</td>\n",
       "      <td>-0.483638</td>\n",
       "      <td>2.096115</td>\n",
       "      <td>1.0</td>\n",
       "    </tr>\n",
       "    <tr>\n",
       "      <th>96</th>\n",
       "      <td>-1.948987</td>\n",
       "      <td>-2.192459</td>\n",
       "      <td>0.943793</td>\n",
       "      <td>2.0</td>\n",
       "    </tr>\n",
       "    <tr>\n",
       "      <th>97</th>\n",
       "      <td>-1.384253</td>\n",
       "      <td>1.522339</td>\n",
       "      <td>2.854824</td>\n",
       "      <td>0.0</td>\n",
       "    </tr>\n",
       "    <tr>\n",
       "      <th>98</th>\n",
       "      <td>1.957208</td>\n",
       "      <td>0.429976</td>\n",
       "      <td>2.750221</td>\n",
       "      <td>1.0</td>\n",
       "    </tr>\n",
       "    <tr>\n",
       "      <th>99</th>\n",
       "      <td>-1.612803</td>\n",
       "      <td>1.696377</td>\n",
       "      <td>-1.020921</td>\n",
       "      <td>0.0</td>\n",
       "    </tr>\n",
       "  </tbody>\n",
       "</table>\n",
       "<p>100 rows × 4 columns</p>\n",
       "</div>"
      ],
      "text/plain": [
       "    call_diff  sms_diff  traffic_diff  customes_class\n",
       "0   -0.666421  0.444911     -0.273538             0.0\n",
       "1   -0.889273 -0.537896     -1.959469             2.0\n",
       "2   -0.841503  0.846665      0.727606             0.0\n",
       "3    1.389749  0.390911      1.789246             1.0\n",
       "4   -1.228211 -1.375899     -1.434209             2.0\n",
       "..        ...       ...           ...             ...\n",
       "95   1.506425 -0.483638      2.096115             1.0\n",
       "96  -1.948987 -2.192459      0.943793             2.0\n",
       "97  -1.384253  1.522339      2.854824             0.0\n",
       "98   1.957208  0.429976      2.750221             1.0\n",
       "99  -1.612803  1.696377     -1.020921             0.0\n",
       "\n",
       "[100 rows x 4 columns]"
      ]
     },
     "execution_count": 2,
     "metadata": {},
     "output_type": "execute_result"
    }
   ],
   "source": [
    "df=pd.read_csv('client_segmentation.csv')\n",
    "df"
   ]
  },
  {
   "cell_type": "code",
   "execution_count": 3,
   "metadata": {},
   "outputs": [],
   "source": [
    "X=df[['call_diff','sms_diff','traffic_diff']].values\n",
    "y = df.customes_class.values"
   ]
  },
  {
   "cell_type": "markdown",
   "metadata": {
    "id": "EGcbYYxLzNUq"
   },
   "source": [
    "Вычисляем скор baseline модели (по тестовым данным)"
   ]
  },
  {
   "cell_type": "markdown",
   "metadata": {
    "id": "bWmS26jdzNVJ"
   },
   "source": [
    "Алгоритм выполнения домашней работы:\n",
    "\n",
    "* выполните PCA преобразование матрицы $X$, передайте новую матрицу в `eval_model`. Какое значение Accuracy получили?\n",
    "* выполните t-sne преобразование матрицы $X$, передайте новую матрицу в `eval_model`. Какое значение Accuracy получили?\n",
    "\n",
    "Какие выводы можно сделать?"
   ]
  },
  {
   "cell_type": "code",
   "execution_count": 4,
   "metadata": {},
   "outputs": [],
   "source": [
    "def eval_model(input_x, input_y):\n",
    "    \"\"\"Train and validate model\"\"\"\n",
    "    X_train, X_test, y_train, y_test = train_test_split(\n",
    "        input_x, input_y, test_size=.3, stratify=y, random_state=42\n",
    "    )\n",
    "    clf = DecisionTreeClassifier(max_depth=2, random_state=42)\n",
    "    clf.fit(X_train, y_train)\n",
    "    preds = clf.predict_proba(X_test)\n",
    "    acc_score = accuracy_score(y_test, preds.argmax(axis=1))\n",
    "    print('Accuracy: %.5f' % acc_score)"
   ]
  },
  {
   "cell_type": "code",
   "execution_count": 5,
   "metadata": {},
   "outputs": [
    {
     "name": "stdout",
     "output_type": "stream",
     "text": [
      " for PCA Accuracy: 0.83333\n",
      " for SVD Accuracy: 0.96667\n",
      " for tSNE Accuracy: 0.93333\n"
     ]
    },
    {
     "data": {
      "image/png": "[encoded data removed]",
      "text/plain": [
       "<Figure size 432x288 with 1 Axes>"
      ]
     },
     "metadata": {
      "needs_background": "light"
     },
     "output_type": "display_data"
    },
    {
     "data": {
      "image/png": "[encoded data removed]",
      "text/plain": [
       "<Figure size 432x288 with 1 Axes>"
      ]
     },
     "metadata": {
      "needs_background": "light"
     },
     "output_type": "display_data"
    },
    {
     "data": {
      "image/png": "[encoded data removed]",
      "text/plain": [
       "<Figure size 432x288 with 1 Axes>"
      ]
     },
     "metadata": {
      "needs_background": "light"
     },
     "output_type": "display_data"
    },
    {
     "data": {
      "image/png": "[encoded data removed]",
      "text/plain": [
       "<Figure size 432x288 with 1 Axes>"
      ]
     },
     "metadata": {
      "needs_background": "light"
     },
     "output_type": "display_data"
    }
   ],
   "source": [
    "n=2\n",
    "pca=PCA(n_components=n).fit(X)\n",
    "x_pca=pca.transform(X)\n",
    "svd_model=TruncatedSVD(n_components=n).fit(X)\n",
    "x_svd=svd_model.transform(X)\n",
    "tsne_transformer=TSNE(n_components=n)\n",
    "x_tsne=tsne_transformer.fit_transform(X)\n",
    "\n",
    "print(f\" for PCA \", end='')\n",
    "eval_model(x_pca, y)\n",
    "print(f\" for SVD \", end='')\n",
    "eval_model(x_svd, y)\n",
    "print(f\" for tSNE \", end='')\n",
    "eval_model(x_tsne, y)\n",
    "\n",
    "colors = ['bo', 'gx', 'ro']\n",
    "num_labels=3\n",
    "\n",
    "plt.title(\"Initial data\")\n",
    "for name, label, color in [('class_%d' % i, i, colors[i]) for i in range(num_labels)]:\n",
    "    plt.plot(X[y == label, 0], X[y == label, 1], color, label=label)\n",
    "plt.legend(loc=0);\n",
    "plt.show()\n",
    "\n",
    "plt.title(\"Transformed with PCA data\")\n",
    "for name, label, color in [('class_%d' % i, i, colors[i]) for i in range(num_labels)]:\n",
    "    plt.plot(x_pca[y == label, 0], x_pca[y == label, 1], color, label=label)\n",
    "plt.legend(loc=0);\n",
    "plt.show()\n",
    "\n",
    "plt.title(\"Transformed with tSNE data\")\n",
    "for name, label, color in [('class_%d' % i, i, colors[i]) for i in range(num_labels)]:\n",
    "    plt.plot(x_tsne[y == label, 0], x_tsne[y == label, 1], color, label=label)\n",
    "plt.legend(loc=0);\n",
    "plt.show()\n",
    "\n",
    "plt.title(\"Transformed with SVD data\")\n",
    "for name, label, color in [('class_%d' % i, i, colors[i]) for i in range(num_labels)]:\n",
    "    plt.plot(x_svd[y == label, 0], x_svd[y == label, 1], color, label=label)\n",
    "plt.legend(loc=0);\n",
    "plt.show()"
   ]
  },
  {
   "cell_type": "markdown",
   "metadata": {
    "id": "i-qWNTVlzNVa"
   },
   "source": [
    "В этом уроке мы познакомились с новым алгоритмом t-SNE. Какие у него есть недостатки?\n",
    "\n",
    "* требует бережной настройки параметров на валидационной выборке (см. документацию - там очень много параметров)\n",
    "* плохо работает, когда данных очень много.\n",
    "\n",
    "На больших объёмах данных (более 10к элементов) следует применять более простые алгоритмы - PCA или SVD."
   ]
  }
 ],
 "metadata": {
  "colab": {
   "collapsed_sections": [],
   "name": "jun_ml_dimension_reduction_hw-5.ipynb",
   "provenance": []
  },
  "kernelspec": {
   "display_name": "Python 3",
   "language": "python",
   "name": "python3"
  },
  "language_info": {
   "codemirror_mode": {
    "name": "ipython",
    "version": 3
   },
   "file_extension": ".py",
   "mimetype": "text/x-python",
   "name": "python",
   "nbconvert_exporter": "python",
   "pygments_lexer": "ipython3",
   "version": "3.9.5"
  }
 },
 "nbformat": 4,
 "nbformat_minor": 1
}
