{
 "cells": [
  {
   "cell_type": "markdown",
   "metadata": {
    "id": "WAyRDni_6GHU"
   },
   "source": [
    "### Урок 5. Домашняя работа\n",
    "\n",
    "Есть два набора точек - *x_hw* и *y_hw*. В рамках домашней работы нужно\n",
    "* визуализировать набор точек\n",
    "* найти коэффициенты регрессии $w_0, w_1$ по шагам, как в уроке\n",
    "* посчитать предсказание в виде $\\hat{y} = w_0 + w_1x$ и визуализировать его вместе с точками *x_hw* и *y_hw*"
   ]
  },
  {
   "cell_type": "code",
   "execution_count": 245,
   "metadata": {},
   "outputs": [],
   "source": [
    "# vaiant 1"
   ]
  },
  {
   "cell_type": "code",
   "execution_count": 246,
   "metadata": {},
   "outputs": [],
   "source": [
    "from matplotlib import pyplot as plt\n",
    "%matplotlib inline\n",
    "import numpy as np\n",
    "from numpy.linalg import inv"
   ]
  },
  {
   "cell_type": "code",
   "execution_count": 247,
   "metadata": {
    "id": "74wa1k6p6GHf"
   },
   "outputs": [
    {
     "data": {
      "image/png": "[encoded data removed]",
      "text/plain": [
       "<Figure size 432x288 with 1 Axes>"
      ]
     },
     "metadata": {
      "needs_background": "light"
     },
     "output_type": "display_data"
    }
   ],
   "source": [
    "x_hw = [50, 60, 70, 100]\n",
    "y_hw = [10, 15, 40, 45]\n",
    "plt.scatter(x_hw, y_hw, 40, 'g', 'o', alpha=0.8)\n",
    "plt.show()"
   ]
  },
  {
   "cell_type": "code",
   "execution_count": 248,
   "metadata": {},
   "outputs": [
    {
     "data": {
      "text/plain": [
       "array([[  1,  50],\n",
       "       [  1,  60],\n",
       "       [  1,  70],\n",
       "       [  1, 100]])"
      ]
     },
     "execution_count": 248,
     "metadata": {},
     "output_type": "execute_result"
    }
   ],
   "source": [
    "X=np.array([[1,50], [1,60], [1, 70], [1, 100]])\n",
    "X"
   ]
  },
  {
   "cell_type": "code",
   "execution_count": 249,
   "metadata": {},
   "outputs": [
    {
     "data": {
      "text/plain": [
       "array([[10],\n",
       "       [15],\n",
       "       [40],\n",
       "       [45]])"
      ]
     },
     "execution_count": 249,
     "metadata": {},
     "output_type": "execute_result"
    }
   ],
   "source": [
    "y=np.array([[10], [15], [40], [45]])\n",
    "y"
   ]
  },
  {
   "cell_type": "code",
   "execution_count": 250,
   "metadata": {},
   "outputs": [
    {
     "data": {
      "text/plain": [
       "array([[    4,   280],\n",
       "       [  280, 21000]])"
      ]
     },
     "execution_count": 250,
     "metadata": {},
     "output_type": "execute_result"
    }
   ],
   "source": [
    "X_T_X=(X.T).dot(X) #X^T*X\n",
    "X_T_X"
   ]
  },
  {
   "cell_type": "code",
   "execution_count": 251,
   "metadata": {},
   "outputs": [
    {
     "data": {
      "text/plain": [
       "array([[ 3.75000000e+00, -5.00000000e-02],\n",
       "       [-5.00000000e-02,  7.14285714e-04]])"
      ]
     },
     "execution_count": 251,
     "metadata": {},
     "output_type": "execute_result"
    }
   ],
   "source": [
    "X_T_X_Inverted=inv(X_T_X) # (X^T*X)^-1\n",
    "X_T_X_Inverted"
   ]
  },
  {
   "cell_type": "code",
   "execution_count": 252,
   "metadata": {},
   "outputs": [
    {
     "name": "stdout",
     "output_type": "stream",
     "text": [
      "w_1=-22.50000, w_2=0.714\n"
     ]
    }
   ],
   "source": [
    "w=X_T_X_Inverted.dot(X.T).dot(y) # (𝑋^𝑇*𝑋)^−1*𝑋^𝑇*𝑌\n",
    "print(\"w_1=%.5f, w_2=%.3f\" % (w[0][0],w[1][0]))\n",
    "#w.reshape(-1)\n",
    "\n"
   ]
  },
  {
   "cell_type": "code",
   "execution_count": 253,
   "metadata": {},
   "outputs": [],
   "source": [
    "# y=-22.5x+0.714"
   ]
  },
  {
   "cell_type": "code",
   "execution_count": 254,
   "metadata": {},
   "outputs": [
    {
     "name": "stdout",
     "output_type": "stream",
     "text": [
      "13.214285714285719\n",
      "20.357142857142858\n",
      "27.499999999999996\n",
      "48.928571428571416\n"
     ]
    }
   ],
   "source": [
    "q=X*w.T\n",
    "for i in range(0, len(q)):\n",
    "    print(q[i].sum())"
   ]
  },
  {
   "cell_type": "code",
   "execution_count": 255,
   "metadata": {},
   "outputs": [],
   "source": [
    "margin=10\n",
    "X_min=10\n",
    "X_max=X[:,1].max()+margin\n",
    "X_Support=np.linspace(X_min, X_max, num=100)\n",
    "Y_model=w[0][0]+w[1][0]*X_Support"
   ]
  },
  {
   "cell_type": "code",
   "execution_count": 256,
   "metadata": {},
   "outputs": [
    {
     "data": {
      "image/png": "[encoded data removed]",
      "text/plain": [
       "<Figure size 432x288 with 1 Axes>"
      ]
     },
     "metadata": {
      "needs_background": "light"
     },
     "output_type": "display_data"
    }
   ],
   "source": [
    "plt.xlim(X_min, X_max)\n",
    "plt.ylim(0, y[:,0].max()+margin)\n",
    "plt.scatter(X[:,1], y[:,0], 40, 'g', 'o', alpha=0.8)\n",
    "plt.plot(X_Support, Y_model)\n",
    "\n",
    "# plt.xscale=1\n",
    "# plt.xscale=1\n",
    "plt.show()"
   ]
  },
  {
   "cell_type": "code",
   "execution_count": 257,
   "metadata": {},
   "outputs": [],
   "source": [
    "# variant 2\n",
    "import numpy as np\n",
    "from numpy.linalg import inv\n",
    "from sklearn.linear_model import LinearRegression"
   ]
  },
  {
   "cell_type": "code",
   "execution_count": 258,
   "metadata": {},
   "outputs": [],
   "source": [
    "def ndprint(a, format_string='{0:.2f}'):\n",
    "    \"\"\"print list\"\"\"\n",
    "    return [format_string.format(v,i) for i,v in enumerate(a)]"
   ]
  },
  {
   "cell_type": "code",
   "execution_count": 259,
   "metadata": {},
   "outputs": [
    {
     "data": {
      "text/plain": [
       "array([[  1,  50],\n",
       "       [  1,  60],\n",
       "       [  1,  70],\n",
       "       [  1, 100]])"
      ]
     },
     "execution_count": 259,
     "metadata": {},
     "output_type": "execute_result"
    }
   ],
   "source": [
    "# features = dataset[:4, 0:1]\n",
    "features=np.array([[1, 50],[1, 60],[1, 70],[1, 100]])\n",
    "features"
   ]
  },
  {
   "cell_type": "code",
   "execution_count": 261,
   "metadata": {},
   "outputs": [
    {
     "data": {
      "text/plain": [
       "array([10, 15, 40, 45])"
      ]
     },
     "execution_count": 261,
     "metadata": {},
     "output_type": "execute_result"
    }
   ],
   "source": [
    "# y = dataset[:4, 1:2].T[0]\n",
    "y=np.array([10, 15, 40, 45])\n",
    "y"
   ]
  },
  {
   "cell_type": "code",
   "execution_count": 262,
   "metadata": {},
   "outputs": [
    {
     "name": "stdout",
     "output_type": "stream",
     "text": [
      "Matrix of object X features  (dimension: 4 2)\n",
      "\n",
      "Target variable y (dimansion: 4)\n"
     ]
    }
   ],
   "source": [
    "print('Matrix of object X features  (dimension: %s %s)' % features.shape)\n",
    "print('\\nTarget variable y (dimansion: %s)' % y.shape)"
   ]
  },
  {
   "cell_type": "code",
   "execution_count": 263,
   "metadata": {},
   "outputs": [
    {
     "name": "stdout",
     "output_type": "stream",
     "text": [
      "Analitically defined coefficients \n",
      " ['-22.50', '0.71']\n"
     ]
    }
   ],
   "source": [
    "w_analitic=inv(features.T.dot(features)).dot(features.T).dot(y)\n",
    "print (\"Analitically defined coefficients \\n %s\" % ndprint(w_analitic))"
   ]
  },
  {
   "cell_type": "code",
   "execution_count": 265,
   "metadata": {},
   "outputs": [
    {
     "name": "stdout",
     "output_type": "stream",
     "text": [
      "Coefficient calculate by sklearn \n",
      "['0.00', '0.71']\n"
     ]
    }
   ],
   "source": [
    "# variant 3 # coefficients may not coinside as they are approximate\n",
    "from sklearn.linear_model import LinearRegression\n",
    "reg=LinearRegression().fit(features, y)\n",
    "print(\"Coefficient calculate by sklearn \\n%s\" % ndprint(reg.coef_))"
   ]
  },
  {
   "cell_type": "code",
   "execution_count": null,
   "metadata": {},
   "outputs": [],
   "source": []
  }
 ],
 "metadata": {
  "colab": {
   "collapsed_sections": [],
   "name": "jun_ml_linear_regression_I_hw_5.ipynb",
   "provenance": []
  },
  "kernelspec": {
   "display_name": "Python 3",
   "language": "python",
   "name": "python3"
  },
  "language_info": {
   "codemirror_mode": {
    "name": "ipython",
    "version": 3
   },
   "file_extension": ".py",
   "mimetype": "text/x-python",
   "name": "python",
   "nbconvert_exporter": "python",
   "pygments_lexer": "ipython3",
   "version": "3.9.5"
  }
 },
 "nbformat": 4,
 "nbformat_minor": 1
}
